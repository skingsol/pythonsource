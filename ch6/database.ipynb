{
 "cells": [
  {
   "attachments": {},
   "cell_type": "markdown",
   "metadata": {},
   "source": [
    "#### SQLite \n",
    "    - RDBMS(관계형 데이터 베이스)\n",
    "    - 서버가 아니라 응용 프로그램에 넣고 사용하는 가벼운 데이터베이스\n",
    "    - python, 핸드폰, 스프링 부트"
   ]
  },
  {
   "cell_type": "code",
   "execution_count": 1,
   "metadata": {},
   "outputs": [
    {
     "name": "stdout",
     "output_type": "stream",
     "text": [
      "sqlite3 version 2.6.0\n",
      "sqlite3 version 3.42.0\n",
      "date 2023-06-23 10:41:15\n"
     ]
    }
   ],
   "source": [
    "import sqlite3\n",
    "import datetime\n",
    "\n",
    "print(\"sqlite3 version\",sqlite3.version)\n",
    "print(\"sqlite3 version\",sqlite3.sqlite_version)\n",
    "\n",
    "now = datetime.datetime.now()  # 모듈명.클래스명.메소드명\n",
    "nowDateTime = now.strftime(\"%Y-%m-%d %H:%M:%S\")\n",
    "print(\"date\",nowDateTime)"
   ]
  },
  {
   "cell_type": "code",
   "execution_count": 2,
   "metadata": {},
   "outputs": [
    {
     "name": "stdout",
     "output_type": "stream",
     "text": [
      "2023-06-23 10:46:32.570454\n"
     ]
    }
   ],
   "source": [
    "from datetime import datetime\n",
    "print(datetime.now())"
   ]
  },
  {
   "attachments": {},
   "cell_type": "markdown",
   "metadata": {},
   "source": [
    "#### 데이터베이스 생성"
   ]
  },
  {
   "cell_type": "code",
   "execution_count": 3,
   "metadata": {},
   "outputs": [],
   "source": [
    "conn = sqlite3.connect(\"/source/pythonsource/resource/test.db\",isolation_level=None)"
   ]
  },
  {
   "cell_type": "code",
   "execution_count": 4,
   "metadata": {},
   "outputs": [],
   "source": [
    "cursor = conn.cursor()"
   ]
  },
  {
   "cell_type": "code",
   "execution_count": 7,
   "metadata": {},
   "outputs": [
    {
     "data": {
      "text/plain": [
       "<sqlite3.Cursor at 0x1ccbd359240>"
      ]
     },
     "execution_count": 7,
     "metadata": {},
     "output_type": "execute_result"
    }
   ],
   "source": [
    "cursor.execute(\"create table if not exists users(id integer primary key, username text, email text,\"\n",
    "               \" phone text, website text, regdate text)\")"
   ]
  },
  {
   "cell_type": "code",
   "execution_count": 29,
   "metadata": {},
   "outputs": [
    {
     "data": {
      "text/plain": [
       "<sqlite3.Cursor at 0x1ccbd359240>"
      ]
     },
     "execution_count": 29,
     "metadata": {},
     "output_type": "execute_result"
    }
   ],
   "source": [
    "cursor.execute(\"insert into users(id,username,email,phone,website,regdate) \"\n",
    "               \"values(1, 'Kim', 'kim@naver.com', '010-1234-1234','kim.com',?)\",(nowDateTime,))"
   ]
  },
  {
   "cell_type": "code",
   "execution_count": 30,
   "metadata": {},
   "outputs": [
    {
     "data": {
      "text/plain": [
       "<sqlite3.Cursor at 0x1ccbd359240>"
      ]
     },
     "execution_count": 30,
     "metadata": {},
     "output_type": "execute_result"
    }
   ],
   "source": [
    "cursor.execute(\"insert into users(id,username,email,phone,website,regdate) \"\n",
    "               \"values(?,?,?,?,?,?)\",(2,'Park','Park@naver.com', '010-4567-4567','Park.com',nowDateTime))"
   ]
  },
  {
   "cell_type": "code",
   "execution_count": 31,
   "metadata": {},
   "outputs": [
    {
     "data": {
      "text/plain": [
       "<sqlite3.Cursor at 0x1ccbd359240>"
      ]
     },
     "execution_count": 31,
     "metadata": {},
     "output_type": "execute_result"
    }
   ],
   "source": [
    "userList = ((3,'Hong','Hong@naver.com', '010-4698-4567','Hong.com',nowDateTime),\n",
    "            (4,'Cho','Cho@naver.com', '010-7589-1234','Cho.com',nowDateTime),\n",
    "            (5,'Yoo','Yoo@naver.com', '010-6987-4567','Yoo.com',nowDateTime))\n",
    "\n",
    "cursor.executemany(\"insert into users(id,username,email,phone,website,regdate) \"\n",
    "                   \"values(?,?,?,?,?,?)\",userList)"
   ]
  },
  {
   "cell_type": "code",
   "execution_count": 24,
   "metadata": {},
   "outputs": [
    {
     "data": {
      "text/plain": [
       "<sqlite3.Cursor at 0x1ccbd359240>"
      ]
     },
     "execution_count": 24,
     "metadata": {},
     "output_type": "execute_result"
    }
   ],
   "source": [
    "cursor.execute(\"delete from users\")"
   ]
  },
  {
   "cell_type": "code",
   "execution_count": 28,
   "metadata": {},
   "outputs": [
    {
     "data": {
      "text/plain": [
       "5"
      ]
     },
     "execution_count": 28,
     "metadata": {},
     "output_type": "execute_result"
    }
   ],
   "source": [
    "# rowcount : 삭제된 행 개수\n",
    "\n",
    "cursor.execute(\"delete from users\").rowcount"
   ]
  },
  {
   "attachments": {},
   "cell_type": "markdown",
   "metadata": {},
   "source": [
    "> 데이터 조회\n",
    "    - fetchone(), fetchmany(), fetchall()"
   ]
  },
  {
   "cell_type": "code",
   "execution_count": 33,
   "metadata": {},
   "outputs": [
    {
     "data": {
      "text/plain": [
       "<sqlite3.Cursor at 0x1ccbd359240>"
      ]
     },
     "execution_count": 33,
     "metadata": {},
     "output_type": "execute_result"
    }
   ],
   "source": [
    "cursor.execute(\"select * from users\")"
   ]
  },
  {
   "cell_type": "code",
   "execution_count": 34,
   "metadata": {},
   "outputs": [
    {
     "data": {
      "text/plain": [
       "(1, 'Kim', 'kim@naver.com', '010-1234-1234', 'kim.com', '2023-06-23 10:41:15')"
      ]
     },
     "execution_count": 34,
     "metadata": {},
     "output_type": "execute_result"
    }
   ],
   "source": [
    "cursor.fetchone()"
   ]
  },
  {
   "cell_type": "code",
   "execution_count": 35,
   "metadata": {},
   "outputs": [
    {
     "data": {
      "text/plain": [
       "[(2,\n",
       "  'Park',\n",
       "  'Park@naver.com',\n",
       "  '010-4567-4567',\n",
       "  'Park.com',\n",
       "  '2023-06-23 10:41:15'),\n",
       " (3,\n",
       "  'Hong',\n",
       "  'Hong@naver.com',\n",
       "  '010-4698-4567',\n",
       "  'Hong.com',\n",
       "  '2023-06-23 10:41:15')]"
      ]
     },
     "execution_count": 35,
     "metadata": {},
     "output_type": "execute_result"
    }
   ],
   "source": [
    "cursor.fetchmany(size=2)"
   ]
  },
  {
   "cell_type": "code",
   "execution_count": 36,
   "metadata": {},
   "outputs": [
    {
     "data": {
      "text/plain": [
       "[(4,\n",
       "  'Cho',\n",
       "  'Cho@naver.com',\n",
       "  '010-7589-1234',\n",
       "  'Cho.com',\n",
       "  '2023-06-23 10:41:15'),\n",
       " (5,\n",
       "  'Yoo',\n",
       "  'Yoo@naver.com',\n",
       "  '010-6987-4567',\n",
       "  'Yoo.com',\n",
       "  '2023-06-23 10:41:15')]"
      ]
     },
     "execution_count": 36,
     "metadata": {},
     "output_type": "execute_result"
    }
   ],
   "source": [
    "cursor.fetchall()"
   ]
  },
  {
   "cell_type": "code",
   "execution_count": 38,
   "metadata": {},
   "outputs": [
    {
     "name": "stdout",
     "output_type": "stream",
     "text": [
      "(1, 'Kim', 'kim@naver.com', '010-1234-1234', 'kim.com', '2023-06-23 10:41:15')\n",
      "(2, 'Park', 'Park@naver.com', '010-4567-4567', 'Park.com', '2023-06-23 10:41:15')\n",
      "(3, 'Hong', 'Hong@naver.com', '010-4698-4567', 'Hong.com', '2023-06-23 10:41:15')\n",
      "(4, 'Cho', 'Cho@naver.com', '010-7589-1234', 'Cho.com', '2023-06-23 10:41:15')\n",
      "(5, 'Yoo', 'Yoo@naver.com', '010-6987-4567', 'Yoo.com', '2023-06-23 10:41:15')\n"
     ]
    }
   ],
   "source": [
    "cursor.execute(\"select * from users\")\n",
    "\n",
    "for c in cursor.fetchall():\n",
    "    print(c)"
   ]
  },
  {
   "cell_type": "code",
   "execution_count": 39,
   "metadata": {},
   "outputs": [
    {
     "name": "stdout",
     "output_type": "stream",
     "text": [
      "(5, 'Yoo', 'Yoo@naver.com', '010-6987-4567', 'Yoo.com', '2023-06-23 10:41:15')\n",
      "(4, 'Cho', 'Cho@naver.com', '010-7589-1234', 'Cho.com', '2023-06-23 10:41:15')\n",
      "(3, 'Hong', 'Hong@naver.com', '010-4698-4567', 'Hong.com', '2023-06-23 10:41:15')\n",
      "(2, 'Park', 'Park@naver.com', '010-4567-4567', 'Park.com', '2023-06-23 10:41:15')\n",
      "(1, 'Kim', 'kim@naver.com', '010-1234-1234', 'kim.com', '2023-06-23 10:41:15')\n"
     ]
    }
   ],
   "source": [
    "for c in cursor.execute(\"select * from users order by id desc\"):\n",
    "    print(c)"
   ]
  },
  {
   "cell_type": "code",
   "execution_count": 41,
   "metadata": {},
   "outputs": [
    {
     "data": {
      "text/plain": [
       "[(3,\n",
       "  'Hong',\n",
       "  'Hong@naver.com',\n",
       "  '010-4698-4567',\n",
       "  'Hong.com',\n",
       "  '2023-06-23 10:41:15')]"
      ]
     },
     "execution_count": 41,
     "metadata": {},
     "output_type": "execute_result"
    }
   ],
   "source": [
    "cursor.execute(\"select * from users where id=?\",(3,))\n",
    "cursor.fetchall()"
   ]
  },
  {
   "cell_type": "code",
   "execution_count": 42,
   "metadata": {},
   "outputs": [
    {
     "data": {
      "text/plain": [
       "[(4,\n",
       "  'Cho',\n",
       "  'Cho@naver.com',\n",
       "  '010-7589-1234',\n",
       "  'Cho.com',\n",
       "  '2023-06-23 10:41:15')]"
      ]
     },
     "execution_count": 42,
     "metadata": {},
     "output_type": "execute_result"
    }
   ],
   "source": [
    "cursor.execute(\"select * from users where id=%d\" % 4)\n",
    "cursor.fetchall()"
   ]
  },
  {
   "cell_type": "code",
   "execution_count": 43,
   "metadata": {},
   "outputs": [
    {
     "data": {
      "text/plain": [
       "[(3,\n",
       "  'Hong',\n",
       "  'Hong@naver.com',\n",
       "  '010-4698-4567',\n",
       "  'Hong.com',\n",
       "  '2023-06-23 10:41:15'),\n",
       " (5,\n",
       "  'Yoo',\n",
       "  'Yoo@naver.com',\n",
       "  '010-6987-4567',\n",
       "  'Yoo.com',\n",
       "  '2023-06-23 10:41:15')]"
      ]
     },
     "execution_count": 43,
     "metadata": {},
     "output_type": "execute_result"
    }
   ],
   "source": [
    "cursor.execute(\"select * from users where id in (?,?)\",(3,5))\n",
    "cursor.fetchall()"
   ]
  },
  {
   "cell_type": "code",
   "execution_count": 44,
   "metadata": {},
   "outputs": [
    {
     "data": {
      "text/plain": [
       "[(3,\n",
       "  'Hong',\n",
       "  'Hong@naver.com',\n",
       "  '010-4698-4567',\n",
       "  'Hong.com',\n",
       "  '2023-06-23 10:41:15'),\n",
       " (5,\n",
       "  'Yoo',\n",
       "  'Yoo@naver.com',\n",
       "  '010-6987-4567',\n",
       "  'Yoo.com',\n",
       "  '2023-06-23 10:41:15')]"
      ]
     },
     "execution_count": 44,
     "metadata": {},
     "output_type": "execute_result"
    }
   ],
   "source": [
    "cursor.execute(\"select * from users where id in (%d,%d)\" % (3,5))\n",
    "cursor.fetchall()"
   ]
  },
  {
   "cell_type": "code",
   "execution_count": 45,
   "metadata": {},
   "outputs": [
    {
     "data": {
      "text/plain": [
       "<sqlite3.Cursor at 0x1ccbd359240>"
      ]
     },
     "execution_count": 45,
     "metadata": {},
     "output_type": "execute_result"
    }
   ],
   "source": [
    "cursor.execute(\"update users set username = ? where id = ?\",('Young',2))"
   ]
  },
  {
   "cell_type": "code",
   "execution_count": 47,
   "metadata": {},
   "outputs": [
    {
     "data": {
      "text/plain": [
       "<sqlite3.Cursor at 0x1ccbd359240>"
      ]
     },
     "execution_count": 47,
     "metadata": {},
     "output_type": "execute_result"
    }
   ],
   "source": [
    "cursor.execute(\"update users set username = '%s' where id = '%d'\" % ('Park',2))"
   ]
  },
  {
   "cell_type": "code",
   "execution_count": 48,
   "metadata": {},
   "outputs": [
    {
     "data": {
      "text/plain": [
       "<sqlite3.Cursor at 0x1ccbd359240>"
      ]
     },
     "execution_count": 48,
     "metadata": {},
     "output_type": "execute_result"
    }
   ],
   "source": [
    "cursor.execute(\"delete from users where id=?\",(5,))"
   ]
  },
  {
   "cell_type": "code",
   "execution_count": 49,
   "metadata": {},
   "outputs": [
    {
     "data": {
      "text/plain": [
       "<sqlite3.Cursor at 0x1ccbd359240>"
      ]
     },
     "execution_count": 49,
     "metadata": {},
     "output_type": "execute_result"
    }
   ],
   "source": [
    "cursor.execute(\"delete from users where id=%d\" % 4)"
   ]
  },
  {
   "cell_type": "code",
   "execution_count": null,
   "metadata": {},
   "outputs": [],
   "source": []
  }
 ],
 "metadata": {
  "kernelspec": {
   "display_name": "pythonsource",
   "language": "python",
   "name": "python3"
  },
  "language_info": {
   "codemirror_mode": {
    "name": "ipython",
    "version": 3
   },
   "file_extension": ".py",
   "mimetype": "text/x-python",
   "name": "python",
   "nbconvert_exporter": "python",
   "pygments_lexer": "ipython3",
   "version": "3.11.4"
  },
  "orig_nbformat": 4
 },
 "nbformat": 4,
 "nbformat_minor": 2
}
