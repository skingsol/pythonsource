{
 "cells": [
  {
   "cell_type": "code",
   "execution_count": 1,
   "metadata": {},
   "outputs": [],
   "source": [
    "from openpyxl import Workbook"
   ]
  },
  {
   "cell_type": "code",
   "execution_count": 5,
   "metadata": {},
   "outputs": [],
   "source": [
    "wb = Workbook()\n",
    "\n",
    "ws = wb.active\n",
    "ws.title=\"test\"\n",
    "wb.save(\"sample1.xlsx\")\n",
    "wb.close()"
   ]
  },
  {
   "cell_type": "code",
   "execution_count": 6,
   "metadata": {},
   "outputs": [
    {
     "name": "stdout",
     "output_type": "stream",
     "text": [
      "['Sheet', 'MySheet', '급여명세']\n"
     ]
    }
   ],
   "source": [
    "wb = Workbook()\n",
    "\n",
    "ws = wb.create_sheet()\n",
    "ws.title=\"MySheet\"\n",
    "ws.sheet_properties.tabColor=\"ff66ff\"\n",
    "\n",
    "ws2=wb.create_sheet(\"급여명세\",2)\n",
    "\n",
    "#특정 시트에 접근\n",
    "sheet1 = wb[\"MySheet\"]\n",
    "sheet1[\"A1\"]=\"Test\"\n",
    "\n",
    "#생성된 모든 시트의 이름 출력\n",
    "print(wb.sheetnames)\n",
    "\n",
    "#sheet 복사\n",
    "target = wb.copy_worksheet(sheet1)\n",
    "target.title=\"Copied Sheet\"\n",
    "\n",
    "wb.save(\"sample2.xlsx\")\n",
    "wb.close()"
   ]
  },
  {
   "cell_type": "code",
   "execution_count": 7,
   "metadata": {},
   "outputs": [
    {
     "name": "stdout",
     "output_type": "stream",
     "text": [
      "<Cell 'Test'.A2>\n",
      "2\n",
      "1\n"
     ]
    }
   ],
   "source": [
    "from random import *\n",
    "\n",
    "wb = Workbook()\n",
    "ws = wb.active\n",
    "ws.title=\"Test\"\n",
    "\n",
    "# A1 셀에 1 이라는 값 입력\n",
    "ws[\"A1\"]=1\n",
    "ws[\"A2\"]=2\n",
    "ws[\"A3\"]=3\n",
    "\n",
    "# B1~B3 숫자 입력\n",
    "ws[\"B1\"]=11\n",
    "ws[\"B2\"]=22\n",
    "ws[\"B3\"]=33\n",
    "\n",
    "# 특정 셀 정보 출력\n",
    "print(ws[\"A2\"])\n",
    "print(ws[\"A2\"].value)\n",
    "\n",
    "# 셀에 접근하는 두번째 방법\n",
    "# row = 1,2,3...\n",
    "# coloum = A,B,C...\n",
    "print(ws.cell(row=1,column=1).value)\n",
    "\n",
    "# 반복문을 사용해서 랜덤 숫자 채우기\n",
    "for x in range(1,11):\n",
    "    for y in range(1,11):\n",
    "        ws.cell(row=x,column=y,value=randint(0,100))\n",
    "\n",
    "wb.save(\"sample.xlsx\")\n",
    "wb.close()\n",
    "\n"
   ]
  },
  {
   "cell_type": "code",
   "execution_count": 8,
   "metadata": {},
   "outputs": [
    {
     "name": "stdout",
     "output_type": "stream",
     "text": [
      "2 73 71 87 26 65 36 87 31 74 \n",
      "77 80 66 75 78 17 8 32 5 35 \n",
      "21 83 23 18 95 16 84 73 86 69 \n",
      "68 90 59 87 46 39 49 47 96 70 \n",
      "33 92 41 22 21 13 100 18 34 43 \n",
      "3 8 28 93 15 82 49 40 71 46 \n",
      "73 4 52 59 59 49 52 40 71 42 \n",
      "91 34 49 97 81 9 7 26 9 22 \n",
      "19 84 14 99 21 38 83 59 29 48 \n",
      "17 67 38 19 28 75 84 92 2 44 \n"
     ]
    }
   ],
   "source": [
    "# 액셀 파일 불러오기\n",
    "\n",
    "from openpyxl import load_workbook\n",
    "\n",
    "wb = load_workbook(\"sample.xlsx\")\n",
    "ws = wb.active\n",
    "\n",
    "# 시트 안에 들어있는 데이터의 갯수를 정확하게 알고 있을 때\n",
    "# for x in range(1,11):\n",
    "#     for y in range(1,11):\n",
    "#         print(ws.cell(row=x,column=y).value,end=\" \")\n",
    "#     print()\n",
    "\n",
    "# max_row / max_column\n",
    "for x in range(1,ws.max_row+1):\n",
    "    for y in range(1,ws.max_column+1):\n",
    "        print(ws.cell(row=x,column=y).value,end=\" \")\n",
    "    print()\n",
    "\n",
    "\n",
    "wb.close()"
   ]
  },
  {
   "cell_type": "code",
   "execution_count": 9,
   "metadata": {},
   "outputs": [
    {
     "name": "stdout",
     "output_type": "stream",
     "text": [
      "(<Cell 'Sheet'.B1>, <Cell 'Sheet'.B2>, <Cell 'Sheet'.B3>, <Cell 'Sheet'.B4>, <Cell 'Sheet'.B5>, <Cell 'Sheet'.B6>, <Cell 'Sheet'.B7>, <Cell 'Sheet'.B8>, <Cell 'Sheet'.B9>, <Cell 'Sheet'.B10>, <Cell 'Sheet'.B11>)\n",
      "영어 96 61 97 88 33 70 49 14 44 1 \n",
      "수학 19 68 16 131 95 140 148 51 173 100 \n",
      "1 96 19 \n",
      "1 61 68 \n",
      "1 97 16 \n",
      "1 88 131 \n",
      "1 33 95 \n",
      "1 70 140 \n"
     ]
    }
   ],
   "source": [
    "from openpyxl import Workbook,load_workbook\n",
    "\n",
    "wb = Workbook()\n",
    "ws = wb.active\n",
    "\n",
    "# 리스트 형태로 데이터 삽입\n",
    "# 리스트 [] : 아무거나 담을 수 있음\n",
    "\n",
    "ws.append([\"번호\",\"영어\",\"수학\"])\n",
    "for i in range(1,11):\n",
    "    ws.append([1,randint(0,100),randint(0,200)])\n",
    "\n",
    "wb.save(\"range.xlsx\")\n",
    "wb.close()\n",
    "\n",
    "# 특정 과목 - 여어 컬럼의 점수 출력\n",
    "#print(ws['B'])\n",
    "\n",
    "# for cell in ws['B']:\n",
    "#     print(cell.value)\n",
    "\n",
    "for cols in ws['B:C']:\n",
    "    for cell in cols:\n",
    "        print(cell.value,end=\" \")\n",
    "    print()\n",
    "\n",
    "for rows in ws['2:7']:\n",
    "    for cell in rows:\n",
    "        print(cell.value,end=\" \")\n",
    "    print()\n",
    "\n",
    "wb.save(\"rang.xlsx\")\n",
    "wb.close()"
   ]
  },
  {
   "cell_type": "code",
   "execution_count": 12,
   "metadata": {},
   "outputs": [
    {
     "name": "stdout",
     "output_type": "stream",
     "text": [
      "1 번 학생의 영어 점수는  96 입니다\n",
      "1 번 학생의 영어 점수는  97 입니다\n",
      "1 번 학생의 영어 점수는  88 입니다\n"
     ]
    }
   ],
   "source": [
    "# range.xlsx 읽기\n",
    "\n",
    "wb = load_workbook(\"range.xlsx\")\n",
    "ws = wb.active\n",
    "\n",
    "for row in ws.iter_rows(min_row=2):\n",
    "    if int(row[1].value) > 80:\n",
    "        print(row[0].value, \"번 학생의 영어 점수는 \", row[1].value, \"입니다\")\n",
    "\n",
    "\n",
    "# 영어 과목명을 컴퓨터로 변경 후 새로운 엑셀 파일로 저장\n",
    "for row in ws.iter_rows():\n",
    "    for cell in rows:\n",
    "        if cell.value == \"영어\":\n",
    "            cell. value = \"컴퓨터\"\n",
    "\n",
    "wb.save(\"range_modified.xlsx\")\n",
    "wb.close()"
   ]
  },
  {
   "cell_type": "code",
   "execution_count": 15,
   "metadata": {},
   "outputs": [],
   "source": [
    "# 행, 열 삽입\n",
    "wb = load_workbook(\"range.xlsx\")\n",
    "ws = wb.active\n",
    "\n",
    "ws.insert_rows(8,5)\n",
    "\n",
    "ws.insert_cols(2,3)\n",
    "\n",
    "wb.save(\"range_insert.xlsx\")\n",
    "wb.close()"
   ]
  },
  {
   "cell_type": "code",
   "execution_count": 18,
   "metadata": {},
   "outputs": [],
   "source": [
    "# 행, 열 삽입\n",
    "wb = load_workbook(\"range.xlsx\")\n",
    "ws = wb.active\n",
    "\n",
    "# ws.delete_rows(8)\n",
    "ws.delete_cols(1,2)\n",
    "\n",
    "wb.save(\"range_insert.xlsx\")\n",
    "wb.close()"
   ]
  },
  {
   "cell_type": "code",
   "execution_count": 20,
   "metadata": {},
   "outputs": [],
   "source": [
    "# 차트 작성\n",
    "\n",
    "from openpyxl.chart import BarChart, Reference\n",
    "\n",
    "wb = load_workbook(\"range.xlsx\")\n",
    "ws = wb.active\n",
    "\n",
    "# 범위 지정\n",
    "bar_value = Reference(ws, min_row=2, max_row=11, min_col=2, max_col=3)\n",
    "# 차트 종류 지정\n",
    "bar_chart = BarChart()\n",
    "# 차트 데이터 추가\n",
    "bar_chart.add_data(bar_value,titles_from_data=True)\n",
    "\n",
    "ws.add_chart(bar_chart, \"E1\")\n",
    "\n",
    "wb.save(\"range_chart.xlsx\")\n",
    "wb.close()"
   ]
  },
  {
   "cell_type": "code",
   "execution_count": 22,
   "metadata": {},
   "outputs": [],
   "source": [
    "from openpyxl.chart import LineChart, Reference\n",
    "\n",
    "wb = load_workbook(\"range.xlsx\")\n",
    "ws = wb.active\n",
    "\n",
    "# 범위 지정\n",
    "line_value = Reference(ws, min_row=2, max_row=11, min_col=2, max_col=3)\n",
    "# 차트 종류 지정\n",
    "line_chart = LineChart()\n",
    "# 차트 데이터 추가\n",
    "line_chart.add_data(line_value,titles_from_data=True)\n",
    "\n",
    "line_chart.title=  \"성격표\"\n",
    "line_chart.style = 20\n",
    "line_chart.y_axis.title = \"점수\"\n",
    "line_chart.x_axis.title = \"번호\"\n",
    "\n",
    "ws.add_chart(line_chart, \"E1\")\n",
    "\n",
    "wb.save(\"range_chart.xlsx\")\n",
    "wb.close()"
   ]
  },
  {
   "cell_type": "code",
   "execution_count": 25,
   "metadata": {},
   "outputs": [
    {
     "ename": "PermissionError",
     "evalue": "[Errno 13] Permission denied: 'range_style.xlsx'",
     "output_type": "error",
     "traceback": [
      "\u001b[1;31m---------------------------------------------------------------------------\u001b[0m",
      "\u001b[1;31mPermissionError\u001b[0m                           Traceback (most recent call last)",
      "Cell \u001b[1;32mIn[25], line 44\u001b[0m\n\u001b[0;32m     41\u001b[0m             cell\u001b[39m.\u001b[39mfill \u001b[39m=\u001b[39m PatternFill(fgColor\u001b[39m=\u001b[39m\u001b[39m\"\u001b[39m\u001b[39m00ff00\u001b[39m\u001b[39m\"\u001b[39m, fill_type\u001b[39m=\u001b[39m\u001b[39m\"\u001b[39m\u001b[39msolid\u001b[39m\u001b[39m\"\u001b[39m)\n\u001b[0;32m     42\u001b[0m             cell\u001b[39m.\u001b[39mfont \u001b[39m=\u001b[39m Font(color\u001b[39m=\u001b[39m\u001b[39m\"\u001b[39m\u001b[39mff0000\u001b[39m\u001b[39m\"\u001b[39m)\n\u001b[1;32m---> 44\u001b[0m wb\u001b[39m.\u001b[39;49msave(\u001b[39m\"\u001b[39;49m\u001b[39mrange_style.xlsx\u001b[39;49m\u001b[39m\"\u001b[39;49m)\n\u001b[0;32m     45\u001b[0m wb\u001b[39m.\u001b[39mclose()\n",
      "File \u001b[1;32mc:\\source\\pythonsource\\Lib\\site-packages\\openpyxl\\workbook\\workbook.py:386\u001b[0m, in \u001b[0;36mWorkbook.save\u001b[1;34m(self, filename)\u001b[0m\n\u001b[0;32m    384\u001b[0m \u001b[39mif\u001b[39;00m \u001b[39mself\u001b[39m\u001b[39m.\u001b[39mwrite_only \u001b[39mand\u001b[39;00m \u001b[39mnot\u001b[39;00m \u001b[39mself\u001b[39m\u001b[39m.\u001b[39mworksheets:\n\u001b[0;32m    385\u001b[0m     \u001b[39mself\u001b[39m\u001b[39m.\u001b[39mcreate_sheet()\n\u001b[1;32m--> 386\u001b[0m save_workbook(\u001b[39mself\u001b[39;49m, filename)\n",
      "File \u001b[1;32mc:\\source\\pythonsource\\Lib\\site-packages\\openpyxl\\writer\\excel.py:291\u001b[0m, in \u001b[0;36msave_workbook\u001b[1;34m(workbook, filename)\u001b[0m\n\u001b[0;32m    279\u001b[0m \u001b[39mdef\u001b[39;00m \u001b[39msave_workbook\u001b[39m(workbook, filename):\n\u001b[0;32m    280\u001b[0m \u001b[39m    \u001b[39m\u001b[39m\"\"\"Save the given workbook on the filesystem under the name filename.\u001b[39;00m\n\u001b[0;32m    281\u001b[0m \n\u001b[0;32m    282\u001b[0m \u001b[39m    :param workbook: the workbook to save\u001b[39;00m\n\u001b[1;32m   (...)\u001b[0m\n\u001b[0;32m    289\u001b[0m \n\u001b[0;32m    290\u001b[0m \u001b[39m    \"\"\"\u001b[39;00m\n\u001b[1;32m--> 291\u001b[0m     archive \u001b[39m=\u001b[39m ZipFile(filename, \u001b[39m'\u001b[39;49m\u001b[39mw\u001b[39;49m\u001b[39m'\u001b[39;49m, ZIP_DEFLATED, allowZip64\u001b[39m=\u001b[39;49m\u001b[39mTrue\u001b[39;49;00m)\n\u001b[0;32m    292\u001b[0m     workbook\u001b[39m.\u001b[39mproperties\u001b[39m.\u001b[39mmodified \u001b[39m=\u001b[39m datetime\u001b[39m.\u001b[39mdatetime\u001b[39m.\u001b[39mutcnow()\n\u001b[0;32m    293\u001b[0m     writer \u001b[39m=\u001b[39m ExcelWriter(workbook, archive)\n",
      "File \u001b[1;32m~\\AppData\\Local\\Programs\\Python\\Python311\\Lib\\zipfile.py:1284\u001b[0m, in \u001b[0;36mZipFile.__init__\u001b[1;34m(self, file, mode, compression, allowZip64, compresslevel, strict_timestamps, metadata_encoding)\u001b[0m\n\u001b[0;32m   1282\u001b[0m \u001b[39mwhile\u001b[39;00m \u001b[39mTrue\u001b[39;00m:\n\u001b[0;32m   1283\u001b[0m     \u001b[39mtry\u001b[39;00m:\n\u001b[1;32m-> 1284\u001b[0m         \u001b[39mself\u001b[39m\u001b[39m.\u001b[39mfp \u001b[39m=\u001b[39m io\u001b[39m.\u001b[39mopen(file, filemode)\n\u001b[0;32m   1285\u001b[0m     \u001b[39mexcept\u001b[39;00m \u001b[39mOSError\u001b[39;00m:\n\u001b[0;32m   1286\u001b[0m         \u001b[39mif\u001b[39;00m filemode \u001b[39min\u001b[39;00m modeDict:\n",
      "\u001b[1;31mPermissionError\u001b[0m: [Errno 13] Permission denied: 'range_style.xlsx'"
     ]
    }
   ],
   "source": [
    "# 셀서식 (너비, 높이, 폰트, 테두리....)\n",
    "\n",
    "from openpyxl.styles import Font, Border, Alignment, PatternFill\n",
    "from openpyxl.styles.borders import Side\n",
    "\n",
    "wb = load_workbook(\"range.xlsx\")\n",
    "ws = wb.active\n",
    "\n",
    "# 셀 너비 줄이기\n",
    "ws.column_dimensions[\"A\"].width = 5\n",
    "\n",
    "# 행 높이 조절\n",
    "ws.row_dimensions[1].height = 50\n",
    "\n",
    "# 특정 셀에 서로 다른 폰트 스타일 적용\n",
    "\n",
    "a1 = ws[\"A1\"]\n",
    "b1 = ws[\"B1\"]\n",
    "c1 = ws[\"C1\"]\n",
    "\n",
    "a1.font = Font(color=\"ff0000\", italic=True, bold=True)\n",
    "b1.font = Font(color=\"cc33ff\", name=\"Arial\", strike=True)\n",
    "c1.font = Font(color=\"0000ff\", size=20, underline=\"single\")\n",
    "\n",
    "# 테두리\n",
    "thin_border = Border(left=Side(style=\"thin\"), right=Side(style=\"dashed\"), top=Side(style=\"dotted\"), bottom=Side(style=\"double\"))\n",
    "\n",
    "a1.border = thin_border\n",
    "c1.border = thin_border\n",
    "\n",
    "# 셀 정렬 및 배경색\n",
    "for row in ws.rows:\n",
    "    for cell in row:\n",
    "\n",
    "        cell.alignment = Alignment(horizontal=\"center\", vertical=\"center\")\n",
    "\n",
    "        if cell.column == 1:\n",
    "            continue\n",
    "\n",
    "        if isinstance(cell.value, int) and cell.value > 80:\n",
    "            cell.fill = PatternFill(fgColor=\"00ff00\", fill_type=\"solid\")\n",
    "            cell.font = Font(color=\"ff0000\")\n",
    "\n",
    "wb.save(\"range_style.xlsx\")\n",
    "wb.close()"
   ]
  },
  {
   "cell_type": "code",
   "execution_count": 27,
   "metadata": {},
   "outputs": [],
   "source": [
    "from datetime import datetime\n",
    "from openpyxl import Workbook\n",
    "\n",
    "wb = Workbook()\n",
    "ws = wb.active\n",
    "\n",
    "# 날짜 넣기\n",
    "ws[\"A1\"] = datetime.today()\n",
    "\n",
    "# 합계 구하기\n",
    "ws[\"A2\"] = \"=sum(1,2,3)\"\n",
    "# 평균 구하기 (엑셀함수)\n",
    "ws[\"A3\"] = \"=average(1,2,3)\"\n",
    "\n",
    "# 데이터 삽입 후 엑셀 함수 적용\n",
    "ws[\"A4\"] = 10\n",
    "ws[\"A5\"] = 30\n",
    "ws[\"A6\"] = \"=sum(A4:A5)\"\n",
    "\n",
    "wb.save(\"sample_formula.xlsx\")\n",
    "wb.close()\n",
    "\n"
   ]
  },
  {
   "cell_type": "code",
   "execution_count": null,
   "metadata": {},
   "outputs": [],
   "source": []
  }
 ],
 "metadata": {
  "kernelspec": {
   "display_name": "pythonsource",
   "language": "python",
   "name": "python3"
  },
  "language_info": {
   "codemirror_mode": {
    "name": "ipython",
    "version": 3
   },
   "file_extension": ".py",
   "mimetype": "text/x-python",
   "name": "python",
   "nbconvert_exporter": "python",
   "pygments_lexer": "ipython3",
   "version": "3.11.4"
  },
  "orig_nbformat": 4
 },
 "nbformat": 4,
 "nbformat_minor": 2
}
