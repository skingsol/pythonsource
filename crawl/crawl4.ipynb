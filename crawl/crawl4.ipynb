{
 "cells": [
  {
   "cell_type": "markdown",
   "metadata": {},
   "source": [
    "#### 정규표현식\n",
    "\n",
    "- re 모듈 사용\n",
    "- re.compile(정규식패턴)\n",
    "- 메소드\n",
    "    - match(), search(), findall(), finditer()\n",
    "    - 실행결과 : Match <re.Match object; span=(0, 3), match='DAA'>"
   ]
  },
  {
   "cell_type": "code",
   "execution_count": 6,
   "metadata": {},
   "outputs": [
    {
     "name": "stdout",
     "output_type": "stream",
     "text": [
      "<re.Match object; span=(0, 3), match='DAA'>\n",
      "패턴 시작 위치 0\n",
      "패턴 끝 위치 3\n",
      "패턴과 일치하는 문자열 반환 DAA\n",
      "패턴과 일치하는 시작,끝위치 반환 (0, 3)\n",
      "\n",
      "<re.Match object; span=(0, 3), match='D1A'>\n",
      "\n",
      "None\n",
      "\n",
      "None\n",
      "\n",
      "<re.Match object; span=(4, 7), match='D0A'>\n"
     ]
    }
   ],
   "source": [
    "import re\n",
    "\n",
    "pattern = re.compile(\"D.A\")\n",
    "\n",
    "# pattern.search(원본문자열)\n",
    "result = pattern.search(\"DAA\")\n",
    "print(result)\n",
    "print(\"패턴 시작 위치\",result.start())\n",
    "print(\"패턴 끝 위치\",result.end())\n",
    "print(\"패턴과 일치하는 문자열 반환\",result.group())\n",
    "print(\"패턴과 일치하는 시작,끝위치 반환\",result.span())\n",
    "print()\n",
    "result = pattern.search(\"D1A\")\n",
    "print(result)\n",
    "print()\n",
    "result = pattern.search(\"D00A\")\n",
    "print(result)\n",
    "\n",
    "print()\n",
    "result = pattern.search(\"d0A\")\n",
    "print(result)\n",
    "\n",
    "print()\n",
    "result = pattern.search(\"d0A D0A 0111\")\n",
    "print(result)"
   ]
  },
  {
   "cell_type": "code",
   "execution_count": 7,
   "metadata": {},
   "outputs": [
    {
     "data": {
      "text/plain": [
       "<re.Match object; span=(0, 3), match='DAA'>"
      ]
     },
     "execution_count": 7,
     "metadata": {},
     "output_type": "execute_result"
    }
   ],
   "source": [
    "re.search(r\"D.A\",\"DAA\")"
   ]
  },
  {
   "cell_type": "code",
   "execution_count": 8,
   "metadata": {},
   "outputs": [
    {
     "name": "stdout",
     "output_type": "stream",
     "text": [
      "<re.Match object; span=(0, 1), match='A'>\n",
      "<re.Match object; span=(0, 2), match='DA'>\n",
      "<re.Match object; span=(0, 1), match='A'>\n"
     ]
    }
   ],
   "source": [
    "# 반복 : ?(최소0~최대1), *(최소0~최대 무한대), +(최소1~최대 무한대)\n",
    "#        {숫자},{숫자1,숫자2}\n",
    "\n",
    "pattern = re.compile(\"D?A\")  # D가 최소0 ~ 최대 1개 허용, 그 다음에는 대문자 A 가 나와야 함\n",
    "\n",
    "print(pattern.search(\"A\"))\n",
    "print(pattern.search(\"DA\"))\n",
    "print(pattern.search(\"AA\"))"
   ]
  },
  {
   "cell_type": "code",
   "execution_count": 9,
   "metadata": {},
   "outputs": [
    {
     "name": "stdout",
     "output_type": "stream",
     "text": [
      "<re.Match object; span=(0, 1), match='A'>\n",
      "<re.Match object; span=(0, 2), match='DA'>\n",
      "<re.Match object; span=(0, 33), match='DDDDDDDDDDDDDDDDDDDDDDDDDDDDDDDDA'>\n"
     ]
    }
   ],
   "source": [
    "pattern = re.compile(\"D*A\")  # D가 최소0 ~ 최대 무한대 허용, 그 다음에는 대문자 A 가 나와야 함\n",
    "\n",
    "print(pattern.search(\"A\"))\n",
    "print(pattern.search(\"DA\"))\n",
    "print(pattern.search(\"DDDDDDDDDDDDDDDDDDDDDDDDDDDDDDDDAA\"))"
   ]
  },
  {
   "cell_type": "code",
   "execution_count": 10,
   "metadata": {},
   "outputs": [
    {
     "name": "stdout",
     "output_type": "stream",
     "text": [
      "None\n",
      "<re.Match object; span=(0, 2), match='DA'>\n",
      "<re.Match object; span=(0, 33), match='DDDDDDDDDDDDDDDDDDDDDDDDDDDDDDDDA'>\n"
     ]
    }
   ],
   "source": [
    "pattern = re.compile(\"D+A\")  # D가 최소1 ~ 최대 무한대 허용, 그 다음에는 대문자 A 가 나와야 함\n",
    "\n",
    "print(pattern.search(\"A\"))\n",
    "print(pattern.search(\"DA\"))\n",
    "print(pattern.search(\"DDDDDDDDDDDDDDDDDDDDDDDDDDDDDDDDAA\"))"
   ]
  },
  {
   "cell_type": "code",
   "execution_count": 11,
   "metadata": {},
   "outputs": [
    {
     "name": "stdout",
     "output_type": "stream",
     "text": [
      "None\n",
      "<re.Match object; span=(0, 4), match='ADDA'>\n",
      "None\n"
     ]
    }
   ],
   "source": [
    "pattern = re.compile(\"AD{2}A\")\n",
    "\n",
    "print(pattern.search(\"ADA\"))\n",
    "print(pattern.search(\"ADDA\"))\n",
    "print(pattern.search(\"ADDDA\"))"
   ]
  },
  {
   "cell_type": "code",
   "execution_count": 12,
   "metadata": {},
   "outputs": [
    {
     "name": "stdout",
     "output_type": "stream",
     "text": [
      "None\n",
      "<re.Match object; span=(0, 4), match='ADDA'>\n",
      "<re.Match object; span=(0, 5), match='ADDDA'>\n"
     ]
    }
   ],
   "source": [
    "pattern = re.compile(\"AD{2,6}A\")\n",
    "\n",
    "print(pattern.search(\"ADA\"))\n",
    "print(pattern.search(\"ADDA\"))\n",
    "print(pattern.search(\"ADDDA\"))"
   ]
  },
  {
   "cell_type": "code",
   "execution_count": 16,
   "metadata": {},
   "outputs": [
    {
     "name": "stdout",
     "output_type": "stream",
     "text": [
      "<re.Match object; span=(0, 3), match='abc'>\n",
      "<re.Match object; span=(0, 3), match='abc'>\n",
      "\n",
      "<re.Match object; span=(0, 3), match='abc'>\n",
      "<re.Match object; span=(0, 3), match='abc'>\n",
      "\n",
      "<re.Match object; span=(3, 7), match='1234'>\n",
      "<re.Match object; span=(3, 7), match='1234'>\n"
     ]
    }
   ],
   "source": [
    "# [] : 괄호안에 들어가는 문자를 패턴으로 작성\n",
    "# [a-zA-Z0-9] \n",
    "pattern = re.compile(\"[abcdefgABCDEFG]+\")\n",
    "print(pattern.search(\"abc1234\"))\n",
    "print(pattern.search(\"abc1234ABC\"))\n",
    "\n",
    "print()\n",
    "pattern = re.compile(\"[a-gA-G]+\")\n",
    "print(pattern.search(\"abc1234\"))\n",
    "print(pattern.search(\"abc1234ABC\"))\n",
    "\n",
    "print()\n",
    "pattern = re.compile(\"[0-9]+\")\n",
    "print(pattern.search(\"abc1234\"))\n",
    "print(pattern.search(\"abc1234ABC\"))"
   ]
  },
  {
   "cell_type": "code",
   "execution_count": 19,
   "metadata": {},
   "outputs": [
    {
     "name": "stdout",
     "output_type": "stream",
     "text": [
      "None\n",
      "None\n",
      "<re.Match object; span=(0, 7), match='가나다라마바사'>\n"
     ]
    }
   ],
   "source": [
    "# [^ ] : 괄호 안에 있는 패턴이 아닌\n",
    "\n",
    "pattern = re.compile(\"[^0-9a-zA-Z]+\")\n",
    "print(pattern.search(\"abc1234\"))\n",
    "print(pattern.search(\"abc1234ABC\"))\n",
    "print(pattern.search(\"가나다라마바사\"))"
   ]
  },
  {
   "cell_type": "code",
   "execution_count": 20,
   "metadata": {},
   "outputs": [
    {
     "name": "stdout",
     "output_type": "stream",
     "text": [
      "None\n",
      "None\n",
      "<re.Match object; span=(0, 7), match='가나다라마바사'>\n"
     ]
    }
   ],
   "source": [
    "pattern = re.compile(\"[가-힣]+\")\n",
    "print(pattern.search(\"abc1234\"))\n",
    "print(pattern.search(\"abc1234ABC\"))\n",
    "print(pattern.search(\"가나다라마바사\"))"
   ]
  },
  {
   "cell_type": "code",
   "execution_count": 22,
   "metadata": {},
   "outputs": [
    {
     "name": "stdout",
     "output_type": "stream",
     "text": [
      "None\n",
      "<re.Match object; span=(1, 4), match='ave'>\n",
      "\n",
      "Dave Dave Dave DA\n"
     ]
    }
   ],
   "source": [
    "# match() : 문자열 처음부터 패턴과 일치하는 경우만 찾아서 리턴\n",
    "# search() : 문자열 전체를 검색해서 패턴과 일치하는 경우 리턴\n",
    "\n",
    "pattern = re.compile(\"[a-z]+\")\n",
    "matched = pattern.match(\"Dave\")\n",
    "print(matched)\n",
    "searched = pattern.search(\"Dave\")\n",
    "print(searched)\n",
    "\n",
    "print()\n",
    "# sub(패턴, 바꿀문자열, 원본문자열) : 찾고 바꾸기\n",
    "result = re.sub(\"D.A\",\"Dave\",\"DDA D1A DDA DA\")\n",
    "print(result)"
   ]
  },
  {
   "cell_type": "code",
   "execution_count": 24,
   "metadata": {},
   "outputs": [
    {
     "name": "stdout",
     "output_type": "stream",
     "text": [
      "['ame', 'of', 'ife', 'in', 'ython']\n",
      "\n",
      "<re.Match object; span=(1, 4), match='ame'>\n",
      "ame\n",
      "<re.Match object; span=(5, 7), match='of'>\n",
      "of\n",
      "<re.Match object; span=(9, 12), match='ife'>\n",
      "ife\n",
      "<re.Match object; span=(13, 15), match='in'>\n",
      "in\n",
      "<re.Match object; span=(17, 22), match='ython'>\n",
      "ython\n"
     ]
    }
   ],
   "source": [
    "# findall() : 찾은 결과를 리스트로 반환 , finditer()\n",
    "pattern = re.compile(\"[a-z]+\")\n",
    "print(pattern.findall(\"Game of Life in Python\"))\n",
    "\n",
    "print()\n",
    "for word in pattern.finditer(\"Game of Life in Python\"):\n",
    "    print(word)\n",
    "    print(word.group())"
   ]
  },
  {
   "cell_type": "code",
   "execution_count": 25,
   "metadata": {},
   "outputs": [
    {
     "name": "stdout",
     "output_type": "stream",
     "text": [
      "패턴과 일치하지 않음\n"
     ]
    }
   ],
   "source": [
    "if len(pattern.findall(\"GAME\")) > 0:\n",
    "    print(\"패턴과 일치\")\n",
    "else:\n",
    "    print(\"패턴과 일치하지 않음\")"
   ]
  },
  {
   "cell_type": "code",
   "execution_count": 27,
   "metadata": {},
   "outputs": [
    {
     "data": {
      "text/plain": [
       "['python', 'django']"
      ]
     },
     "execution_count": 27,
     "metadata": {},
     "output_type": "execute_result"
    }
   ],
   "source": [
    "# split() : 패턴을 기준으로 문자열 분리\n",
    "pattern = re.compile(\":\")\n",
    "pattern.split(\"python:django\")"
   ]
  },
  {
   "cell_type": "code",
   "execution_count": 31,
   "metadata": {},
   "outputs": [
    {
     "name": "stdout",
     "output_type": "stream",
     "text": [
      "['python', 'java']\n",
      "801210*1011323\n"
     ]
    }
   ],
   "source": [
    "# 원본문자열 : python VS java\n",
    "print(re.split(r\" VS \",\"python VS java\"))\n",
    "\n",
    "# 원본문자열 : 801210-1011323\n",
    "# - 를 * 로 바꿔서 출력\n",
    "print(re.sub(\"-\",\"*\",\"801210-1011323\"))"
   ]
  },
  {
   "cell_type": "code",
   "execution_count": 33,
   "metadata": {},
   "outputs": [
    {
     "name": "stdout",
     "output_type": "stream",
     "text": [
      "주민등록번호\n",
      "800215-*******\n",
      "821030-*******\n",
      "841230-*******\n",
      "790903-*******\n",
      "800125-*******\n",
      "820612-*******\n"
     ]
    }
   ],
   "source": [
    "# 수업자료 > 데이터 > data_kr.xlsx 다운로드 후 작업 수행\n",
    "# 엑셀 안의 데이터를 읽어 주민번호 뒷자리를 * 로 바꿔서 화면에 출력\n",
    "\n",
    "from openpyxl import load_workbook\n",
    "\n",
    "wb = load_workbook(\"./data_kr.xlsx\")\n",
    "ws = wb.active\n",
    "pattern = re.compile(\"[0-9]{7}\")\n",
    "for row in ws.rows:\n",
    "    print(re.sub(pattern,\"*******\",row[1].value))\n",
    "\n",
    "wb.close()"
   ]
  },
  {
   "cell_type": "code",
   "execution_count": 43,
   "metadata": {},
   "outputs": [
    {
     "name": "stdout",
     "output_type": "stream",
     "text": [
      "1 에버랜드서 암컷 쌍둥이 판다 태어나…푸바오는 이제 '맏언니' 연합뉴스\n",
      "2 가게 앞에서 개고기 써는 마지막 개시장…손님은 바글바글 머니투데이\n",
      "3 도쿄전력 \"방사능 물고기, 우리와 무관…한국에 무슨 피해냐\" 한겨레\n",
      "4 국토부, 양평고속도로 논란에 \"김 여사 땅 있는지 누가 알았겠나\" SBS\n",
      "5 \"학교 최고 미녀 A+, 같이 밥 먹자\" 문자한 교수…탄원서 쓴 학생엔 '... 뉴스\n",
      "6 \"산후조리원 대신 모자동실 갔더니…\" 욕 바가지로 먹은 남편 [넷만세] 서울신문\n",
      "7 \"차 빼달라\"는 여성에 침뱉고 폭행한 전직 보디빌더 구속영장 기각 왜? 동아일보\n",
      "8 [단독]양평군, '국토부 종점안'에 대해 끝까지 미온적이었다 노컷뉴스\n",
      "9 尹부부 순방서 우연히 만난 美 대표단, '아메리칸 파이' 합창 국민일보\n",
      "10 [제보는Y]\"남자 70%가 외도 꿈꿔?\"…성범죄 피해 여성과 따로 만난 경찰 YTN\n",
      "11 尹 '동네 회색패딩' 리투아니아서도 입었다 \"우리같이 뚱뚱한 사람은…\" 조선일보\n",
      "12 '서울에 두 번 다시 안 가는 10개 이유' 대만女 글 시끌 국민일보\n",
      "13 \"남편이 퇴사, 반갑다\"…아내가 올린 글, 추천 3600개 쏟아진 사연 뉴스1\n",
      "14 \"초6 담임교사인 여자친구…남학생이 보낸 카톡에 경악\" SBS\n",
      "15 하반기 들어 열흘 만에 수출 15%↓…무역수지 다시 23억불 적자 머니투데이\n",
      "16 'KBS수신료, 전기요금과 별도청구' 국무회의 의결…내일 시행될 듯(종합) 뉴스1\n",
      "17 [단독]실업급여, '최저임금 80%' 하한액 없앤다 이데일리\n",
      "18 빌뉴스 구시가지 산책하는 윤석열 대통령 부부 연합뉴스\n",
      "19 김여정 입에서 나온 '대한민국'…'투 코리아' 본격화하나 연합뉴스\n",
      "20 [단독] \"저는 간호사였어요\" 그는 왜 스위스서 죽음을 준비하나 [금기된 죽... 서울신문\n",
      "21 'TV수신료 분리징수' 사실상 확정…국무회의서 의결 연합뉴스\n",
      "22 쌍둥이 중 둘째 지켜보는 아이바오 뉴시스\n",
      "23 금주 내내 비 소식에 우박까지…7월 '장마 괴담' 현실로 아시아경제\n",
      "24 금태섭 \"'김건희 도로'냐…왜 묻지도 못하게 해\" 노컷뉴스\n",
      "25 국무회의장으로 향하는 장미란 차관 뉴스1\n",
      "26 \"남자 잘 꼬시죠 '뜨밤' 보내요\"…초6이 담임에게 보낸 카톡 파이낸셜뉴스\n",
      "27 한낮 32도 '초복 더위'…오후엔 전국 최대 150㎜ '강한 비'(종합)[오늘날씨... 뉴스1\n",
      "28 尹 약속한 '연두색 번호판'…기존 슈퍼카는 벌칙 면제? 정부 왜 중앙일보\n",
      "29 [단독]서울 지하철 요금 200원→150원 인상으로 선회 머니투데이\n",
      "30 [속보] 한총리 \"TV수신료 별도징수…국민 관심·권리의식 높아질 것\" 연합뉴스\n",
      "31 [인터뷰] \"커플됐어요, 오늘 3일차…주선자는 성남시\" 노컷뉴스\n",
      "32 하룻밤 100만원, 살벌한 휴가철 물가…\"이 돈 쓰느니 해외로\" \"안가고 말지... 머니투데이\n",
      "33 \"한그릇에 1만5천원…복날이면 뭐해, 삼계탕 아니고 금계탕인데\" 이데일리\n",
      "34 새마을금고도 '괴담' 강력 대응?…넉 달 전 위기 땐 뭐하고 YTN\n",
      "35 딸 소송 취하, 아들 학위 반납…조국 진짜 출마하나 조선일보\n",
      "36 민주 김병욱 \"권영준 후보자, 지방서 군복무 중 서울 대학원 다녀\" 뉴시스\n",
      "37 김여정 \"무단침범시 미군 위태로운 비행\"…재차 위협 연합뉴스\n",
      "38 일본 \"독도 방어훈련 유감\" 항의에 서경덕 \"명백한 내정간섭\" 연합뉴스\n",
      "39 25∼49세 남성 47%·여성 33%는 미혼…혼외자 출생 7천700명 연합뉴스\n",
      "40 \"119는 필수 시설!\" 악성민원 고통받는 소방에 컵라면 뉴시스\n",
      "41 국힘, 김부겸·유영민 거론 '양평 고속도로' 역공…\"민주당 게이트\" 뉴스1\n",
      "42 \"멍청한 X자식\" 바이든 대통령 욕설, 백악관에서도 빈번 서울경제\n",
      "43 [기가車] 역주행해 5중 추돌 일으킨 음주운전자…사고 뒤 취한 행동은? 아이뉴스24\n",
      "44 [단독] 김건희 일가 양평 땅 '투자 최적'…원희룡 주장 무색 한겨레\n",
      "45 \"아무도 안 막더라\"…교도소 정문 걸어나온 탈옥범[그해 오늘] 이데일리\n",
      "46 생후 이틀된 영아 목포 야산에 암매장한 30대 친모 수사…경찰 수색중 뉴스1\n",
      "47 내년 중국가는 '푸바오'…갓 태어난 쌍둥이 동생도 중국행? 조선일보\n",
      "48 가장 안전한 여행지 1위는 일본…가장 위험한 국가 1위는 조선일보\n",
      "49 오염수 방류 앞둔 일본 국민 '불안감'…NHK 여론조사 '35% 찬성' 한겨레\n",
      "50 원희룡 \"백지화\" 그날, 尹지지율 7.6%P 하락…與 \"역풍 걱정\" 중앙일보\n"
     ]
    }
   ],
   "source": [
    "import requests\n",
    "from bs4 import BeautifulSoup\n",
    "\n",
    "url = \"https://news.nate.com/rank/interest?sc=sisa\"\n",
    "res = requests.get(url)\n",
    "soup = BeautifulSoup(res.text,\"lxml\")\n",
    "\n",
    "# 1-5위 \n",
    "rank5 = soup.select_one(\"div.postRankSubjectList.f_clear\")\n",
    "# 6-50위\n",
    "rank50 = soup.select_one(\"#postRankSubject\")\n",
    "\n",
    "for idx, item in enumerate(rank5.select(\".mduSubjectList.f_clear\"),1):\n",
    "    title = item.select_one(\"h2.tit\").string\n",
    "    writer = item.select_one(\"span.medium\").get_text()\n",
    "    writer = re.split(\"[\\d-]\",writer)[0]\n",
    "    print(idx,title,writer)\n",
    "\n",
    "for idx,item in enumerate(rank50.select(\"ul.mduSubject li\"),6):\n",
    "    title = item.select_one(\"a h2\").string\n",
    "    writer = item.select_one(\"span.medium\").get_text()\n",
    "    print(idx,title,writer)"
   ]
  },
  {
   "cell_type": "code",
   "execution_count": 42,
   "metadata": {},
   "outputs": [
    {
     "name": "stdout",
     "output_type": "stream",
     "text": [
      "SBS\n",
      "SBS\n"
     ]
    }
   ],
   "source": [
    "str = \"SBS2023-07-11\"\n",
    "\n",
    "print(re.split(\"[\\d-]\",str)[0])\n",
    "print(re.search(\"[가-힣A-Za-z]+\",str).group())"
   ]
  },
  {
   "cell_type": "code",
   "execution_count": 46,
   "metadata": {},
   "outputs": [
    {
     "data": {
      "text/plain": [
       "'Apple 아이폰 14 128GB [자급제]'"
      ]
     },
     "execution_count": 46,
     "metadata": {},
     "output_type": "execute_result"
    }
   ],
   "source": [
    "str = \"Apple <b>아이폰</b> 14 128GB [자급제]\"\n",
    "\n",
    "re.sub(\"(<.*?>)\",\"\",str)"
   ]
  },
  {
   "cell_type": "code",
   "execution_count": null,
   "metadata": {},
   "outputs": [],
   "source": []
  }
 ],
 "metadata": {
  "kernelspec": {
   "display_name": "pythonsource",
   "language": "python",
   "name": "python3"
  },
  "language_info": {
   "codemirror_mode": {
    "name": "ipython",
    "version": 3
   },
   "file_extension": ".py",
   "mimetype": "text/x-python",
   "name": "python",
   "nbconvert_exporter": "python",
   "pygments_lexer": "ipython3",
   "version": "3.11.4"
  },
  "orig_nbformat": 4
 },
 "nbformat": 4,
 "nbformat_minor": 2
}
