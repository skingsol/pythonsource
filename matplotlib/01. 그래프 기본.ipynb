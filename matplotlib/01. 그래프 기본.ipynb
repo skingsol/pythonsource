{
 "cells": [
  {
   "cell_type": "markdown",
   "id": "85144bf0",
   "metadata": {},
   "source": [
    "## matplotlib (https://matplotlib.org/stable/index)\n",
    "\n",
    "- 다양한 형태의 그래프를 통해서 데이터 시각화를 할 수 있는 라이브러리\n",
    "<img src='https://matplotlib.org/stable/_images/anatomy.png' width='700' height='600'>"
   ]
  },
  {
   "cell_type": "code",
   "execution_count": null,
   "id": "c64790b7",
   "metadata": {},
   "outputs": [],
   "source": [
    "# pip install matplotlib"
   ]
  },
  {
   "cell_type": "code",
   "execution_count": null,
   "id": "5d708721",
   "metadata": {},
   "outputs": [],
   "source": [
    "import matplotlib.pyplot as plt"
   ]
  },
  {
   "cell_type": "markdown",
   "id": "9f6a0bdd",
   "metadata": {},
   "source": [
    "### 기본 차트 생성"
   ]
  },
  {
   "cell_type": "markdown",
   "id": "2c95a35a",
   "metadata": {},
   "source": [
    "><b>리스트를 그래프로 나타내기</b>"
   ]
  },
  {
   "cell_type": "code",
   "execution_count": null,
   "id": "fcbe8d8d",
   "metadata": {},
   "outputs": [],
   "source": []
  },
  {
   "cell_type": "code",
   "execution_count": null,
   "id": "a091ac3a",
   "metadata": {},
   "outputs": [],
   "source": []
  },
  {
   "cell_type": "markdown",
   "id": "ec005aa5",
   "metadata": {},
   "source": [
    "><b>파이썬 딕셔너리를 그래프로 나타내기</b>"
   ]
  },
  {
   "cell_type": "code",
   "execution_count": null,
   "id": "9060f34c",
   "metadata": {},
   "outputs": [],
   "source": []
  },
  {
   "cell_type": "markdown",
   "id": "5d13f73e",
   "metadata": {},
   "source": [
    "### 타이틀 설정"
   ]
  },
  {
   "cell_type": "code",
   "execution_count": null,
   "id": "e2162902",
   "metadata": {},
   "outputs": [],
   "source": []
  },
  {
   "cell_type": "code",
   "execution_count": null,
   "id": "c5bc74e1",
   "metadata": {},
   "outputs": [],
   "source": []
  },
  {
   "cell_type": "markdown",
   "id": "6db58b30",
   "metadata": {},
   "source": [
    "### 한글 폰트 설정"
   ]
  },
  {
   "cell_type": "code",
   "execution_count": null,
   "id": "9fc9b414",
   "metadata": {},
   "outputs": [],
   "source": []
  },
  {
   "cell_type": "code",
   "execution_count": null,
   "id": "3efc38d1",
   "metadata": {},
   "outputs": [],
   "source": []
  },
  {
   "cell_type": "code",
   "execution_count": null,
   "id": "b0340f51",
   "metadata": {},
   "outputs": [],
   "source": []
  },
  {
   "cell_type": "markdown",
   "id": "58e4c1f6",
   "metadata": {},
   "source": [
    "### 마이너스 설정"
   ]
  },
  {
   "cell_type": "code",
   "execution_count": null,
   "id": "541c7281",
   "metadata": {},
   "outputs": [],
   "source": []
  },
  {
   "cell_type": "code",
   "execution_count": null,
   "id": "0731aaa0",
   "metadata": {},
   "outputs": [],
   "source": []
  },
  {
   "cell_type": "code",
   "execution_count": null,
   "id": "de929dd7",
   "metadata": {},
   "outputs": [],
   "source": []
  },
  {
   "cell_type": "markdown",
   "id": "2cacf27c",
   "metadata": {},
   "source": [
    "### 그리드"
   ]
  },
  {
   "cell_type": "markdown",
   "id": "2c2c2435",
   "metadata": {},
   "source": [
    "**전체설정**"
   ]
  },
  {
   "cell_type": "code",
   "execution_count": null,
   "id": "9885a4b5",
   "metadata": {},
   "outputs": [],
   "source": []
  },
  {
   "cell_type": "markdown",
   "id": "688a956e",
   "metadata": {},
   "source": [
    "**x축설정**"
   ]
  },
  {
   "cell_type": "code",
   "execution_count": null,
   "id": "ee8b73dd",
   "metadata": {},
   "outputs": [],
   "source": []
  },
  {
   "cell_type": "markdown",
   "id": "c722b1ae",
   "metadata": {},
   "source": [
    "**y축설정**"
   ]
  },
  {
   "cell_type": "code",
   "execution_count": null,
   "id": "c9e455ae",
   "metadata": {},
   "outputs": [],
   "source": []
  },
  {
   "cell_type": "code",
   "execution_count": null,
   "id": "789ca53d",
   "metadata": {},
   "outputs": [],
   "source": []
  }
 ],
 "metadata": {
  "kernelspec": {
   "display_name": "Python 3 (ipykernel)",
   "language": "python",
   "name": "python3"
  },
  "language_info": {
   "codemirror_mode": {
    "name": "ipython",
    "version": 3
   },
   "file_extension": ".py",
   "mimetype": "text/x-python",
   "name": "python",
   "nbconvert_exporter": "python",
   "pygments_lexer": "ipython3",
   "version": "3.9.12"
  }
 },
 "nbformat": 4,
 "nbformat_minor": 5
}
