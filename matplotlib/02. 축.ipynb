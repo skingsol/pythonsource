{
 "cells": [
  {
   "cell_type": "markdown",
   "id": "85144bf0",
   "metadata": {},
   "source": [
    "## matplotlib (https://matplotlib.org/stable/index)\n",
    "\n",
    "- 다양한 형태의 그래프를 통해서 데이터 시각화를 할 수 있는 라이브러리"
   ]
  },
  {
   "cell_type": "code",
   "execution_count": null,
   "id": "c64790b7",
   "metadata": {},
   "outputs": [],
   "source": []
  },
  {
   "cell_type": "code",
   "execution_count": null,
   "id": "5d708721",
   "metadata": {},
   "outputs": [],
   "source": []
  },
  {
   "cell_type": "code",
   "execution_count": null,
   "id": "00aec80f",
   "metadata": {},
   "outputs": [],
   "source": []
  },
  {
   "cell_type": "code",
   "execution_count": null,
   "id": "8da926b4",
   "metadata": {},
   "outputs": [],
   "source": []
  },
  {
   "cell_type": "markdown",
   "id": "3ca6b646",
   "metadata": {},
   "source": [
    "### 축설정\n",
    "- https://matplotlib.org/stable/api/_as_gen/matplotlib.pyplot.xlabel.html\n",
    "- https://matplotlib.org/stable/api/_as_gen/matplotlib.pyplot.ylabel.html"
   ]
  },
  {
   "cell_type": "markdown",
   "id": "bdf17b9e",
   "metadata": {},
   "source": [
    "#### 1. 이름 설정 \n",
    "><b>1) xlabel(), ylabel()</b>"
   ]
  },
  {
   "cell_type": "code",
   "execution_count": null,
   "id": "b0340f51",
   "metadata": {},
   "outputs": [],
   "source": []
  },
  {
   "cell_type": "markdown",
   "id": "4a2afb72",
   "metadata": {},
   "source": [
    "><b>2) 이름 및 다양한 설정</b>"
   ]
  },
  {
   "cell_type": "markdown",
   "id": "5c9ed745",
   "metadata": {},
   "source": [
    "matplotlib.pyplot.xlabel(xlabel, fontdict=None, labelpad=None, *, loc=None, **kwargs)\n",
    "\n",
    "- fontdict : font 설정을 dict 구조로 설정\n",
    "- labelpad : default 4.0 설정됨(label과 차트 사이의 간격)\n",
    "- **kwargs(?)\n",
    "    - color : rgb설정, 색상명 가능\n",
    "- loc : 축 이름 위치 설정('left', 'center', 'right'),  y 축 (top, bottom, center)"
   ]
  },
  {
   "cell_type": "code",
   "execution_count": null,
   "id": "d8a0ada9",
   "metadata": {},
   "outputs": [],
   "source": []
  },
  {
   "cell_type": "code",
   "execution_count": null,
   "id": "fbbce48a",
   "metadata": {},
   "outputs": [],
   "source": []
  },
  {
   "cell_type": "code",
   "execution_count": null,
   "id": "aa2fe90d",
   "metadata": {},
   "outputs": [],
   "source": []
  },
  {
   "cell_type": "markdown",
   "id": "b32fbc98",
   "metadata": {},
   "source": [
    "#### 2. 축 눈금 설정 - xticks(), yticks()"
   ]
  },
  {
   "cell_type": "code",
   "execution_count": null,
   "id": "0af3244e",
   "metadata": {},
   "outputs": [],
   "source": []
  },
  {
   "cell_type": "code",
   "execution_count": null,
   "id": "8d3ad65e",
   "metadata": {},
   "outputs": [],
   "source": []
  },
  {
   "cell_type": "code",
   "execution_count": null,
   "id": "15f5c929",
   "metadata": {},
   "outputs": [],
   "source": []
  }
 ],
 "metadata": {
  "kernelspec": {
   "display_name": "Python 3 (ipykernel)",
   "language": "python",
   "name": "python3"
  },
  "language_info": {
   "codemirror_mode": {
    "name": "ipython",
    "version": 3
   },
   "file_extension": ".py",
   "mimetype": "text/x-python",
   "name": "python",
   "nbconvert_exporter": "python",
   "pygments_lexer": "ipython3",
   "version": "3.9.12"
  }
 },
 "nbformat": 4,
 "nbformat_minor": 5
}
