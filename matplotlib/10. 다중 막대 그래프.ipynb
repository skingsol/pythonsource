{
 "cells": [
  {
   "cell_type": "code",
   "execution_count": 1,
   "id": "0e6eb780",
   "metadata": {},
   "outputs": [],
   "source": [
    "import matplotlib.pyplot as plt"
   ]
  },
  {
   "cell_type": "code",
   "execution_count": 2,
   "id": "4544b810",
   "metadata": {},
   "outputs": [],
   "source": [
    "# 한글설정 / 마이너스 설정 필수\n",
    "plt.rcParams[\"font.family\"] = \"Malgun Gothic\"\n",
    "plt.rcParams[\"axes.unicode_minus\"] = False"
   ]
  },
  {
   "cell_type": "code",
   "execution_count": 5,
   "id": "b9615c40",
   "metadata": {},
   "outputs": [],
   "source": [
    "import pandas as pd\n",
    "import numpy as np"
   ]
  },
  {
   "cell_type": "code",
   "execution_count": 6,
   "id": "745f5835",
   "metadata": {},
   "outputs": [
    {
     "data": {
      "text/html": [
       "<div>\n",
       "<style scoped>\n",
       "    .dataframe tbody tr th:only-of-type {\n",
       "        vertical-align: middle;\n",
       "    }\n",
       "\n",
       "    .dataframe tbody tr th {\n",
       "        vertical-align: top;\n",
       "    }\n",
       "\n",
       "    .dataframe thead th {\n",
       "        text-align: right;\n",
       "    }\n",
       "</style>\n",
       "<table border=\"1\" class=\"dataframe\">\n",
       "  <thead>\n",
       "    <tr style=\"text-align: right;\">\n",
       "      <th></th>\n",
       "      <th>이름</th>\n",
       "      <th>학교</th>\n",
       "      <th>키</th>\n",
       "      <th>국어</th>\n",
       "      <th>영어</th>\n",
       "      <th>수학</th>\n",
       "      <th>과학</th>\n",
       "      <th>사회</th>\n",
       "      <th>sw 특기</th>\n",
       "    </tr>\n",
       "  </thead>\n",
       "  <tbody>\n",
       "    <tr>\n",
       "      <th>0</th>\n",
       "      <td>채지수</td>\n",
       "      <td>북산고</td>\n",
       "      <td>197</td>\n",
       "      <td>90</td>\n",
       "      <td>85</td>\n",
       "      <td>100</td>\n",
       "      <td>95</td>\n",
       "      <td>85</td>\n",
       "      <td>Python</td>\n",
       "    </tr>\n",
       "    <tr>\n",
       "      <th>1</th>\n",
       "      <td>정대만</td>\n",
       "      <td>북산고</td>\n",
       "      <td>184</td>\n",
       "      <td>40</td>\n",
       "      <td>35</td>\n",
       "      <td>50</td>\n",
       "      <td>55</td>\n",
       "      <td>25</td>\n",
       "      <td>Java</td>\n",
       "    </tr>\n",
       "    <tr>\n",
       "      <th>2</th>\n",
       "      <td>송태섭</td>\n",
       "      <td>북산고</td>\n",
       "      <td>168</td>\n",
       "      <td>80</td>\n",
       "      <td>75</td>\n",
       "      <td>70</td>\n",
       "      <td>80</td>\n",
       "      <td>75</td>\n",
       "      <td>Javascript</td>\n",
       "    </tr>\n",
       "    <tr>\n",
       "      <th>3</th>\n",
       "      <td>서태웅</td>\n",
       "      <td>북산고</td>\n",
       "      <td>187</td>\n",
       "      <td>40</td>\n",
       "      <td>60</td>\n",
       "      <td>70</td>\n",
       "      <td>75</td>\n",
       "      <td>80</td>\n",
       "      <td>NaN</td>\n",
       "    </tr>\n",
       "    <tr>\n",
       "      <th>4</th>\n",
       "      <td>강백호</td>\n",
       "      <td>북산고</td>\n",
       "      <td>188</td>\n",
       "      <td>15</td>\n",
       "      <td>20</td>\n",
       "      <td>10</td>\n",
       "      <td>35</td>\n",
       "      <td>10</td>\n",
       "      <td>NaN</td>\n",
       "    </tr>\n",
       "    <tr>\n",
       "      <th>5</th>\n",
       "      <td>변덕규</td>\n",
       "      <td>북산고</td>\n",
       "      <td>202</td>\n",
       "      <td>80</td>\n",
       "      <td>100</td>\n",
       "      <td>95</td>\n",
       "      <td>85</td>\n",
       "      <td>80</td>\n",
       "      <td>C</td>\n",
       "    </tr>\n",
       "    <tr>\n",
       "      <th>6</th>\n",
       "      <td>황태산</td>\n",
       "      <td>북산고</td>\n",
       "      <td>188</td>\n",
       "      <td>55</td>\n",
       "      <td>65</td>\n",
       "      <td>45</td>\n",
       "      <td>40</td>\n",
       "      <td>35</td>\n",
       "      <td>PYTHON</td>\n",
       "    </tr>\n",
       "    <tr>\n",
       "      <th>7</th>\n",
       "      <td>윤대협</td>\n",
       "      <td>북산고</td>\n",
       "      <td>190</td>\n",
       "      <td>100</td>\n",
       "      <td>85</td>\n",
       "      <td>90</td>\n",
       "      <td>95</td>\n",
       "      <td>95</td>\n",
       "      <td>C#</td>\n",
       "    </tr>\n",
       "  </tbody>\n",
       "</table>\n",
       "</div>"
      ],
      "text/plain": [
       "    이름   학교    키   국어   영어   수학  과학  사회       sw 특기\n",
       "0  채지수  북산고  197   90   85  100  95  85      Python\n",
       "1  정대만  북산고  184   40   35   50  55  25        Java\n",
       "2  송태섭  북산고  168   80   75   70  80  75  Javascript\n",
       "3  서태웅  북산고  187   40   60   70  75  80         NaN\n",
       "4  강백호  북산고  188   15   20   10  35  10         NaN\n",
       "5  변덕규  북산고  202   80  100   95  85  80           C\n",
       "6  황태산  북산고  188   55   65   45  40  35      PYTHON\n",
       "7  윤대협  북산고  190  100   85   90  95  95          C#"
      ]
     },
     "execution_count": 6,
     "metadata": {},
     "output_type": "execute_result"
    }
   ],
   "source": [
    "# student.csv 가져오기\n",
    "df1 = pd.read_csv(\"./student.csv\")\n",
    "df1"
   ]
  },
  {
   "cell_type": "markdown",
   "id": "a48e8feb",
   "metadata": {},
   "source": [
    " #### 다중 막대를 그리기 위한 개념"
   ]
  },
  {
   "cell_type": "markdown",
   "id": "d9d4e5bb",
   "metadata": {},
   "source": [
    "**x 축을 위한 눈금 수 정하기**"
   ]
  },
  {
   "cell_type": "code",
   "execution_count": 7,
   "id": "6f84eb7b",
   "metadata": {},
   "outputs": [
    {
     "data": {
      "text/plain": [
       "array([0, 1, 2, 3, 4, 5, 6, 7])"
      ]
     },
     "execution_count": 7,
     "metadata": {},
     "output_type": "execute_result"
    }
   ],
   "source": [
    "index = np.arange(df1.shape[0]) # np.arange(8) ==> 넘파이배열\n",
    "index"
   ]
  },
  {
   "cell_type": "markdown",
   "id": "8b1bbe16",
   "metadata": {},
   "source": [
    "**막대가 그려지는 가운데 위치를 기준으로 -0.25, 0, 0.25로 처리**"
   ]
  },
  {
   "cell_type": "code",
   "execution_count": 8,
   "id": "5357512f",
   "metadata": {},
   "outputs": [
    {
     "data": {
      "image/png": "[encoded data removed]",
      "text/plain": [
       "<Figure size 640x480 with 1 Axes>"
      ]
     },
     "metadata": {},
     "output_type": "display_data"
    }
   ],
   "source": [
    "w = 0.25\n",
    "plt.bar(index-w, df1[\"국어\"])\n",
    "plt.bar(index, df1[\"영어\"])\n",
    "plt.bar(index+w, df1[\"수학\"])\n",
    "plt.show()"
   ]
  },
  {
   "cell_type": "markdown",
   "id": "31fc72a2",
   "metadata": {},
   "source": [
    "- 위처럼 그리면 막대가 겹치게 되니까 막대의 너비를 조절해야 함"
   ]
  },
  {
   "cell_type": "code",
   "execution_count": 9,
   "id": "4dd8980d",
   "metadata": {},
   "outputs": [
    {
     "data": {
      "image/png": "[encoded data removed]",
      "text/plain": [
       "<Figure size 640x480 with 1 Axes>"
      ]
     },
     "metadata": {},
     "output_type": "display_data"
    }
   ],
   "source": [
    "w = 0.25\n",
    "plt.bar(index-w, df1[\"국어\"], width=w)\n",
    "plt.bar(index, df1[\"영어\"], width=w)\n",
    "plt.bar(index+w, df1[\"수학\"], width=w)\n",
    "plt.show()"
   ]
  },
  {
   "cell_type": "markdown",
   "id": "e85bd27a",
   "metadata": {},
   "source": [
    "#### 범례"
   ]
  },
  {
   "cell_type": "code",
   "execution_count": 10,
   "id": "bfd9b99b",
   "metadata": {},
   "outputs": [
    {
     "data": {
      "image/png": "[encoded data removed]",
      "text/plain": [
       "<Figure size 640x480 with 1 Axes>"
      ]
     },
     "metadata": {},
     "output_type": "display_data"
    }
   ],
   "source": [
    "w = 0.25\n",
    "plt.bar(index-w, df1[\"국어\"], width=w)\n",
    "plt.bar(index, df1[\"영어\"], width=w)\n",
    "plt.bar(index+w, df1[\"수학\"], width=w)\n",
    "plt.legend([\"국어\",\"영어\",\"수학\"])\n",
    "plt.show()"
   ]
  },
  {
   "cell_type": "markdown",
   "id": "8bdb7bd5",
   "metadata": {},
   "source": [
    "#### 타이틀, 범례, x 축 변경"
   ]
  },
  {
   "cell_type": "code",
   "execution_count": 11,
   "id": "04599bc9",
   "metadata": {},
   "outputs": [
    {
     "data": {
      "image/png": "[encoded data removed]",
      "text/plain": [
       "<Figure size 1000x500 with 1 Axes>"
      ]
     },
     "metadata": {},
     "output_type": "display_data"
    }
   ],
   "source": [
    "plt.figure(figsize=(10,5))\n",
    "plt.title(\"과목별 학생 성적\")\n",
    "plt.bar(index-w, df1[\"국어\"], width=w)\n",
    "plt.bar(index, df1[\"영어\"], width=w)\n",
    "plt.bar(index+w, df1[\"수학\"], width=w)\n",
    "plt.legend([\"국어\",\"영어\",\"수학\"])\n",
    "\n",
    "plt.xticks(index, df1[\"이름\"])\n",
    "plt.show()"
   ]
  },
  {
   "cell_type": "code",
   "execution_count": null,
   "id": "73f49f43",
   "metadata": {},
   "outputs": [],
   "source": []
  }
 ],
 "metadata": {
  "kernelspec": {
   "display_name": "Python 3 (ipykernel)",
   "language": "python",
   "name": "python3"
  },
  "language_info": {
   "codemirror_mode": {
    "name": "ipython",
    "version": 3
   },
   "file_extension": ".py",
   "mimetype": "text/x-python",
   "name": "python",
   "nbconvert_exporter": "python",
   "pygments_lexer": "ipython3",
   "version": "3.11.4"
  }
 },
 "nbformat": 4,
 "nbformat_minor": 5
}
