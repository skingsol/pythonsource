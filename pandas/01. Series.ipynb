{
 "cells": [
  {
   "cell_type": "markdown",
   "id": "51dba0b9",
   "metadata": {},
   "source": [
    "### [참고] <a href=\"https://pandas.pydata.org/Pandas_Cheat_Sheet.pdf\">Pandas Cheat Sheet</a>\n",
    "\n",
    "## 데이터 타입"
   ]
  },
  {
   "cell_type": "markdown",
   "id": "068e59f7",
   "metadata": {},
   "source": [
    "### 1.Series(https://pandas.pydata.org/docs/reference/api/pandas.Series.html)\n",
    "\n",
    "<img src=\"https://bites-data.s3.us-east-2.amazonaws.com/series_spreadsheet.png\" width=\"300\" height=\"200\">"
   ]
  },
  {
   "cell_type": "code",
   "execution_count": null,
   "id": "d57f56be",
   "metadata": {},
   "outputs": [],
   "source": []
  },
  {
   "cell_type": "markdown",
   "id": "8b356858",
   "metadata": {},
   "source": [
    "### 생성"
   ]
  },
  {
   "cell_type": "markdown",
   "id": "cea5a132",
   "metadata": {},
   "source": [
    "#### 1) 리스트"
   ]
  },
  {
   "cell_type": "code",
   "execution_count": 1,
   "id": "4bdf91ab",
   "metadata": {},
   "outputs": [],
   "source": [
    "list1 = [70,80,90]"
   ]
  },
  {
   "cell_type": "code",
   "execution_count": 2,
   "id": "91ce7eb2",
   "metadata": {},
   "outputs": [
    {
     "data": {
      "text/plain": [
       "0    70\n",
       "1    80\n",
       "2    90\n",
       "dtype: int64"
      ]
     },
     "execution_count": 2,
     "metadata": {},
     "output_type": "execute_result"
    }
   ],
   "source": [
    "import pandas as pd\n",
    "\n",
    "ser = pd.Series(list1)\n",
    "ser"
   ]
  },
  {
   "cell_type": "code",
   "execution_count": 5,
   "id": "046ca9bd",
   "metadata": {},
   "outputs": [
    {
     "data": {
      "text/plain": [
       "국어    70\n",
       "영어    80\n",
       "수학    90\n",
       "dtype: int64"
      ]
     },
     "execution_count": 5,
     "metadata": {},
     "output_type": "execute_result"
    }
   ],
   "source": [
    "ser1 = pd.Series(list1,index=[\"국어\",\"영어\",\"수학\"])\n",
    "ser1"
   ]
  },
  {
   "cell_type": "markdown",
   "id": "2476fcbd",
   "metadata": {},
   "source": [
    "#### 2) 딕셔너리"
   ]
  },
  {
   "cell_type": "code",
   "execution_count": 6,
   "id": "b2ac15a0",
   "metadata": {},
   "outputs": [
    {
     "data": {
      "text/plain": [
       "a    1\n",
       "b    2\n",
       "c    3\n",
       "dtype: int64"
      ]
     },
     "execution_count": 6,
     "metadata": {},
     "output_type": "execute_result"
    }
   ],
   "source": [
    "ser2 = pd.Series({\"a\":1, \"b\":2, \"c\":3})\n",
    "ser2"
   ]
  },
  {
   "cell_type": "markdown",
   "id": "f994b257",
   "metadata": {},
   "source": [
    "#### Read"
   ]
  },
  {
   "cell_type": "code",
   "execution_count": 7,
   "id": "de35d1ee",
   "metadata": {},
   "outputs": [
    {
     "data": {
      "text/plain": [
       "Index(['국어', '영어', '수학'], dtype='object')"
      ]
     },
     "execution_count": 7,
     "metadata": {},
     "output_type": "execute_result"
    }
   ],
   "source": [
    "# index 조회\n",
    "\n",
    "ser1.index"
   ]
  },
  {
   "cell_type": "code",
   "execution_count": 8,
   "id": "973dba0d",
   "metadata": {},
   "outputs": [
    {
     "data": {
      "text/plain": [
       "array([70, 80, 90], dtype=int64)"
      ]
     },
     "execution_count": 8,
     "metadata": {},
     "output_type": "execute_result"
    }
   ],
   "source": [
    "# values 조회\n",
    "\n",
    "ser1.values"
   ]
  },
  {
   "cell_type": "code",
   "execution_count": 10,
   "id": "d5a05e92",
   "metadata": {},
   "outputs": [
    {
     "data": {
      "text/plain": [
       "국어    70\n",
       "영어    80\n",
       "dtype: int64"
      ]
     },
     "execution_count": 10,
     "metadata": {},
     "output_type": "execute_result"
    }
   ],
   "source": [
    "# values 에서 상위 5 개만 조회 : head(),   개수 지정 가능 head(3)\n",
    "ser1.head(2)"
   ]
  },
  {
   "cell_type": "code",
   "execution_count": 11,
   "id": "a0436def",
   "metadata": {},
   "outputs": [
    {
     "data": {
      "text/plain": [
       "국어    70\n",
       "영어    80\n",
       "수학    90\n",
       "dtype: int64"
      ]
     },
     "execution_count": 11,
     "metadata": {},
     "output_type": "execute_result"
    }
   ],
   "source": [
    "# values 에서 끝 5 개만 조회 : tail(),   개수 지정 가능 tail(3)\n",
    "ser1.tail()"
   ]
  },
  {
   "cell_type": "code",
   "execution_count": 12,
   "id": "e03ce493",
   "metadata": {},
   "outputs": [
    {
     "data": {
      "text/plain": [
       "(3,)"
      ]
     },
     "execution_count": 12,
     "metadata": {},
     "output_type": "execute_result"
    }
   ],
   "source": [
    "# shape : 데이터 구조 (행,열)\n",
    "ser1.shape"
   ]
  },
  {
   "cell_type": "markdown",
   "id": "192484aa",
   "metadata": {},
   "source": [
    "#### Update"
   ]
  },
  {
   "cell_type": "code",
   "execution_count": 14,
   "id": "18ba4b70",
   "metadata": {},
   "outputs": [
    {
     "data": {
      "text/plain": [
       "미술    70\n",
       "음악    80\n",
       "체육    90\n",
       "dtype: int64"
      ]
     },
     "execution_count": 14,
     "metadata": {},
     "output_type": "execute_result"
    }
   ],
   "source": [
    "# index 변경\n",
    "\n",
    "ser1.index = [\"미술\",\"음악\",\"체육\"]\n",
    "ser1"
   ]
  },
  {
   "cell_type": "code",
   "execution_count": 17,
   "id": "f0738677",
   "metadata": {},
   "outputs": [],
   "source": [
    "# 데이터 타입 변경 : astype(\"변경할타입\") => 원본 변경 안됨\n",
    "\n",
    "ser1 = ser1.astype(\"float64\")"
   ]
  },
  {
   "cell_type": "code",
   "execution_count": 18,
   "id": "25b015cc",
   "metadata": {},
   "outputs": [
    {
     "data": {
      "text/plain": [
       "미술    70.0\n",
       "음악    80.0\n",
       "체육    90.0\n",
       "dtype: float64"
      ]
     },
     "execution_count": 18,
     "metadata": {},
     "output_type": "execute_result"
    }
   ],
   "source": [
    "ser1"
   ]
  },
  {
   "cell_type": "code",
   "execution_count": 20,
   "id": "44faf749",
   "metadata": {},
   "outputs": [
    {
     "data": {
      "text/plain": [
       "0    1.1\n",
       "1    2.2\n",
       "2    3.3\n",
       "dtype: object"
      ]
     },
     "execution_count": 20,
     "metadata": {},
     "output_type": "execute_result"
    }
   ],
   "source": [
    "ser3 = pd.Series([\"1.1\",\"2.2\",\"3.3\"])\n",
    "ser3"
   ]
  },
  {
   "cell_type": "code",
   "execution_count": 21,
   "id": "e818e4a6",
   "metadata": {},
   "outputs": [
    {
     "data": {
      "text/plain": [
       "0    1.1\n",
       "1    2.2\n",
       "2    3.3\n",
       "dtype: float64"
      ]
     },
     "execution_count": 21,
     "metadata": {},
     "output_type": "execute_result"
    }
   ],
   "source": [
    "ser3 = ser3.astype(\"float64\")\n",
    "ser3"
   ]
  },
  {
   "cell_type": "code",
   "execution_count": 22,
   "id": "19578edf",
   "metadata": {},
   "outputs": [
    {
     "data": {
      "text/plain": [
       "0    test\n",
       "1     2.2\n",
       "2     3.3\n",
       "dtype: object"
      ]
     },
     "execution_count": 22,
     "metadata": {},
     "output_type": "execute_result"
    }
   ],
   "source": [
    "ser4 = pd.Series([\"test\",\"2.2\",\"3.3\"])\n",
    "ser4"
   ]
  },
  {
   "cell_type": "code",
   "execution_count": 23,
   "id": "bb3332eb",
   "metadata": {},
   "outputs": [
    {
     "ename": "ValueError",
     "evalue": "could not convert string to float: 'test'",
     "output_type": "error",
     "traceback": [
      "\u001b[1;31m---------------------------------------------------------------------------\u001b[0m",
      "\u001b[1;31mValueError\u001b[0m                                Traceback (most recent call last)",
      "Cell \u001b[1;32mIn[23], line 1\u001b[0m\n\u001b[1;32m----> 1\u001b[0m ser4\u001b[39m.\u001b[39;49mastype(\u001b[39m\"\u001b[39;49m\u001b[39mfloat64\u001b[39;49m\u001b[39m\"\u001b[39;49m)\n",
      "File \u001b[1;32mc:\\source\\pythonsource\\Lib\\site-packages\\pandas\\core\\generic.py:6324\u001b[0m, in \u001b[0;36mNDFrame.astype\u001b[1;34m(self, dtype, copy, errors)\u001b[0m\n\u001b[0;32m   6317\u001b[0m     results \u001b[39m=\u001b[39m [\n\u001b[0;32m   6318\u001b[0m         \u001b[39mself\u001b[39m\u001b[39m.\u001b[39miloc[:, i]\u001b[39m.\u001b[39mastype(dtype, copy\u001b[39m=\u001b[39mcopy)\n\u001b[0;32m   6319\u001b[0m         \u001b[39mfor\u001b[39;00m i \u001b[39min\u001b[39;00m \u001b[39mrange\u001b[39m(\u001b[39mlen\u001b[39m(\u001b[39mself\u001b[39m\u001b[39m.\u001b[39mcolumns))\n\u001b[0;32m   6320\u001b[0m     ]\n\u001b[0;32m   6322\u001b[0m \u001b[39melse\u001b[39;00m:\n\u001b[0;32m   6323\u001b[0m     \u001b[39m# else, only a single dtype is given\u001b[39;00m\n\u001b[1;32m-> 6324\u001b[0m     new_data \u001b[39m=\u001b[39m \u001b[39mself\u001b[39;49m\u001b[39m.\u001b[39;49m_mgr\u001b[39m.\u001b[39;49mastype(dtype\u001b[39m=\u001b[39;49mdtype, copy\u001b[39m=\u001b[39;49mcopy, errors\u001b[39m=\u001b[39;49merrors)\n\u001b[0;32m   6325\u001b[0m     \u001b[39mreturn\u001b[39;00m \u001b[39mself\u001b[39m\u001b[39m.\u001b[39m_constructor(new_data)\u001b[39m.\u001b[39m__finalize__(\u001b[39mself\u001b[39m, method\u001b[39m=\u001b[39m\u001b[39m\"\u001b[39m\u001b[39mastype\u001b[39m\u001b[39m\"\u001b[39m)\n\u001b[0;32m   6327\u001b[0m \u001b[39m# GH 33113: handle empty frame or series\u001b[39;00m\n",
      "File \u001b[1;32mc:\\source\\pythonsource\\Lib\\site-packages\\pandas\\core\\internals\\managers.py:451\u001b[0m, in \u001b[0;36mBaseBlockManager.astype\u001b[1;34m(self, dtype, copy, errors)\u001b[0m\n\u001b[0;32m    448\u001b[0m \u001b[39melif\u001b[39;00m using_copy_on_write():\n\u001b[0;32m    449\u001b[0m     copy \u001b[39m=\u001b[39m \u001b[39mFalse\u001b[39;00m\n\u001b[1;32m--> 451\u001b[0m \u001b[39mreturn\u001b[39;00m \u001b[39mself\u001b[39;49m\u001b[39m.\u001b[39;49mapply(\n\u001b[0;32m    452\u001b[0m     \u001b[39m\"\u001b[39;49m\u001b[39mastype\u001b[39;49m\u001b[39m\"\u001b[39;49m,\n\u001b[0;32m    453\u001b[0m     dtype\u001b[39m=\u001b[39;49mdtype,\n\u001b[0;32m    454\u001b[0m     copy\u001b[39m=\u001b[39;49mcopy,\n\u001b[0;32m    455\u001b[0m     errors\u001b[39m=\u001b[39;49merrors,\n\u001b[0;32m    456\u001b[0m     using_cow\u001b[39m=\u001b[39;49musing_copy_on_write(),\n\u001b[0;32m    457\u001b[0m )\n",
      "File \u001b[1;32mc:\\source\\pythonsource\\Lib\\site-packages\\pandas\\core\\internals\\managers.py:352\u001b[0m, in \u001b[0;36mBaseBlockManager.apply\u001b[1;34m(self, f, align_keys, **kwargs)\u001b[0m\n\u001b[0;32m    350\u001b[0m         applied \u001b[39m=\u001b[39m b\u001b[39m.\u001b[39mapply(f, \u001b[39m*\u001b[39m\u001b[39m*\u001b[39mkwargs)\n\u001b[0;32m    351\u001b[0m     \u001b[39melse\u001b[39;00m:\n\u001b[1;32m--> 352\u001b[0m         applied \u001b[39m=\u001b[39m \u001b[39mgetattr\u001b[39;49m(b, f)(\u001b[39m*\u001b[39;49m\u001b[39m*\u001b[39;49mkwargs)\n\u001b[0;32m    353\u001b[0m     result_blocks \u001b[39m=\u001b[39m extend_blocks(applied, result_blocks)\n\u001b[0;32m    355\u001b[0m out \u001b[39m=\u001b[39m \u001b[39mtype\u001b[39m(\u001b[39mself\u001b[39m)\u001b[39m.\u001b[39mfrom_blocks(result_blocks, \u001b[39mself\u001b[39m\u001b[39m.\u001b[39maxes)\n",
      "File \u001b[1;32mc:\\source\\pythonsource\\Lib\\site-packages\\pandas\\core\\internals\\blocks.py:511\u001b[0m, in \u001b[0;36mBlock.astype\u001b[1;34m(self, dtype, copy, errors, using_cow)\u001b[0m\n\u001b[0;32m    491\u001b[0m \u001b[39m\u001b[39m\u001b[39m\"\"\"\u001b[39;00m\n\u001b[0;32m    492\u001b[0m \u001b[39mCoerce to the new dtype.\u001b[39;00m\n\u001b[0;32m    493\u001b[0m \n\u001b[1;32m   (...)\u001b[0m\n\u001b[0;32m    507\u001b[0m \u001b[39mBlock\u001b[39;00m\n\u001b[0;32m    508\u001b[0m \u001b[39m\"\"\"\u001b[39;00m\n\u001b[0;32m    509\u001b[0m values \u001b[39m=\u001b[39m \u001b[39mself\u001b[39m\u001b[39m.\u001b[39mvalues\n\u001b[1;32m--> 511\u001b[0m new_values \u001b[39m=\u001b[39m astype_array_safe(values, dtype, copy\u001b[39m=\u001b[39;49mcopy, errors\u001b[39m=\u001b[39;49merrors)\n\u001b[0;32m    513\u001b[0m new_values \u001b[39m=\u001b[39m maybe_coerce_values(new_values)\n\u001b[0;32m    515\u001b[0m refs \u001b[39m=\u001b[39m \u001b[39mNone\u001b[39;00m\n",
      "File \u001b[1;32mc:\\source\\pythonsource\\Lib\\site-packages\\pandas\\core\\dtypes\\astype.py:242\u001b[0m, in \u001b[0;36mastype_array_safe\u001b[1;34m(values, dtype, copy, errors)\u001b[0m\n\u001b[0;32m    239\u001b[0m     dtype \u001b[39m=\u001b[39m dtype\u001b[39m.\u001b[39mnumpy_dtype\n\u001b[0;32m    241\u001b[0m \u001b[39mtry\u001b[39;00m:\n\u001b[1;32m--> 242\u001b[0m     new_values \u001b[39m=\u001b[39m astype_array(values, dtype, copy\u001b[39m=\u001b[39;49mcopy)\n\u001b[0;32m    243\u001b[0m \u001b[39mexcept\u001b[39;00m (\u001b[39mValueError\u001b[39;00m, \u001b[39mTypeError\u001b[39;00m):\n\u001b[0;32m    244\u001b[0m     \u001b[39m# e.g. _astype_nansafe can fail on object-dtype of strings\u001b[39;00m\n\u001b[0;32m    245\u001b[0m     \u001b[39m#  trying to convert to float\u001b[39;00m\n\u001b[0;32m    246\u001b[0m     \u001b[39mif\u001b[39;00m errors \u001b[39m==\u001b[39m \u001b[39m\"\u001b[39m\u001b[39mignore\u001b[39m\u001b[39m\"\u001b[39m:\n",
      "File \u001b[1;32mc:\\source\\pythonsource\\Lib\\site-packages\\pandas\\core\\dtypes\\astype.py:187\u001b[0m, in \u001b[0;36mastype_array\u001b[1;34m(values, dtype, copy)\u001b[0m\n\u001b[0;32m    184\u001b[0m     values \u001b[39m=\u001b[39m values\u001b[39m.\u001b[39mastype(dtype, copy\u001b[39m=\u001b[39mcopy)\n\u001b[0;32m    186\u001b[0m \u001b[39melse\u001b[39;00m:\n\u001b[1;32m--> 187\u001b[0m     values \u001b[39m=\u001b[39m _astype_nansafe(values, dtype, copy\u001b[39m=\u001b[39;49mcopy)\n\u001b[0;32m    189\u001b[0m \u001b[39m# in pandas we don't store numpy str dtypes, so convert to object\u001b[39;00m\n\u001b[0;32m    190\u001b[0m \u001b[39mif\u001b[39;00m \u001b[39misinstance\u001b[39m(dtype, np\u001b[39m.\u001b[39mdtype) \u001b[39mand\u001b[39;00m \u001b[39missubclass\u001b[39m(values\u001b[39m.\u001b[39mdtype\u001b[39m.\u001b[39mtype, \u001b[39mstr\u001b[39m):\n",
      "File \u001b[1;32mc:\\source\\pythonsource\\Lib\\site-packages\\pandas\\core\\dtypes\\astype.py:138\u001b[0m, in \u001b[0;36m_astype_nansafe\u001b[1;34m(arr, dtype, copy, skipna)\u001b[0m\n\u001b[0;32m    134\u001b[0m     \u001b[39mraise\u001b[39;00m \u001b[39mValueError\u001b[39;00m(msg)\n\u001b[0;32m    136\u001b[0m \u001b[39mif\u001b[39;00m copy \u001b[39mor\u001b[39;00m is_object_dtype(arr\u001b[39m.\u001b[39mdtype) \u001b[39mor\u001b[39;00m is_object_dtype(dtype):\n\u001b[0;32m    137\u001b[0m     \u001b[39m# Explicit copy, or required since NumPy can't view from / to object.\u001b[39;00m\n\u001b[1;32m--> 138\u001b[0m     \u001b[39mreturn\u001b[39;00m arr\u001b[39m.\u001b[39;49mastype(dtype, copy\u001b[39m=\u001b[39;49m\u001b[39mTrue\u001b[39;49;00m)\n\u001b[0;32m    140\u001b[0m \u001b[39mreturn\u001b[39;00m arr\u001b[39m.\u001b[39mastype(dtype, copy\u001b[39m=\u001b[39mcopy)\n",
      "\u001b[1;31mValueError\u001b[0m: could not convert string to float: 'test'"
     ]
    }
   ],
   "source": [
    "ser4.astype(\"float64\")"
   ]
  },
  {
   "cell_type": "code",
   "execution_count": 19,
   "id": "b9afd432",
   "metadata": {},
   "outputs": [
    {
     "data": {
      "text/plain": [
       "미술    70.0\n",
       "음악    85.0\n",
       "체육    90.0\n",
       "dtype: float64"
      ]
     },
     "execution_count": 19,
     "metadata": {},
     "output_type": "execute_result"
    }
   ],
   "source": [
    "# 특정 값 변경\n",
    "\n",
    "ser1[\"음악\"] = 85\n",
    "ser1"
   ]
  },
  {
   "cell_type": "code",
   "execution_count": 25,
   "id": "3bcbfa05",
   "metadata": {},
   "outputs": [
    {
     "data": {
      "text/plain": [
       "미술    70.0\n",
       "음악    85.0\n",
       "체육    90.0\n",
       "Name: 점수, dtype: float64"
      ]
     },
     "execution_count": 25,
     "metadata": {},
     "output_type": "execute_result"
    }
   ],
   "source": [
    "ser1 = ser1.rename(\"점수\")\n",
    "ser1"
   ]
  },
  {
   "cell_type": "markdown",
   "id": "caebaf9c",
   "metadata": {},
   "source": [
    "#### 삭제"
   ]
  },
  {
   "cell_type": "code",
   "execution_count": 26,
   "id": "c3061723",
   "metadata": {},
   "outputs": [],
   "source": [
    "del ser1[\"체육\"]"
   ]
  },
  {
   "cell_type": "code",
   "execution_count": 27,
   "id": "31a58c88",
   "metadata": {},
   "outputs": [
    {
     "data": {
      "text/plain": [
       "미술    70.0\n",
       "음악    85.0\n",
       "Name: 점수, dtype: float64"
      ]
     },
     "execution_count": 27,
     "metadata": {},
     "output_type": "execute_result"
    }
   ],
   "source": [
    "ser1"
   ]
  },
  {
   "cell_type": "code",
   "execution_count": null,
   "id": "1ed0b8bd",
   "metadata": {},
   "outputs": [],
   "source": []
  },
  {
   "cell_type": "markdown",
   "id": "8c2630c2",
   "metadata": {},
   "source": [
    "#### 3) ndarray"
   ]
  },
  {
   "cell_type": "code",
   "execution_count": 28,
   "id": "66738ee9",
   "metadata": {},
   "outputs": [
    {
     "data": {
      "text/plain": [
       "a    1.273312\n",
       "b    0.044151\n",
       "c    0.578568\n",
       "d   -0.524845\n",
       "dtype: float64"
      ]
     },
     "execution_count": 28,
     "metadata": {},
     "output_type": "execute_result"
    }
   ],
   "source": [
    "# numpy 데이터 타입 : ndarray\n",
    "\n",
    "import numpy as np\n",
    "\n",
    "ser5 = pd.Series(np.random.randn(4), index = list(\"abcd\"))\n",
    "ser5"
   ]
  },
  {
   "cell_type": "markdown",
   "id": "63a02c91",
   "metadata": {},
   "source": [
    "#### 4) DataFrame 이용"
   ]
  },
  {
   "cell_type": "code",
   "execution_count": 29,
   "id": "339c0c56",
   "metadata": {},
   "outputs": [
    {
     "data": {
      "text/html": [
       "<div>\n",
       "<style scoped>\n",
       "    .dataframe tbody tr th:only-of-type {\n",
       "        vertical-align: middle;\n",
       "    }\n",
       "\n",
       "    .dataframe tbody tr th {\n",
       "        vertical-align: top;\n",
       "    }\n",
       "\n",
       "    .dataframe thead th {\n",
       "        text-align: right;\n",
       "    }\n",
       "</style>\n",
       "<table border=\"1\" class=\"dataframe\">\n",
       "  <thead>\n",
       "    <tr style=\"text-align: right;\">\n",
       "      <th></th>\n",
       "      <th>a</th>\n",
       "      <th>b</th>\n",
       "    </tr>\n",
       "  </thead>\n",
       "  <tbody>\n",
       "    <tr>\n",
       "      <th>0</th>\n",
       "      <td>1</td>\n",
       "      <td>5</td>\n",
       "    </tr>\n",
       "    <tr>\n",
       "      <th>1</th>\n",
       "      <td>2</td>\n",
       "      <td>6</td>\n",
       "    </tr>\n",
       "    <tr>\n",
       "      <th>2</th>\n",
       "      <td>3</td>\n",
       "      <td>7</td>\n",
       "    </tr>\n",
       "    <tr>\n",
       "      <th>3</th>\n",
       "      <td>4</td>\n",
       "      <td>8</td>\n",
       "    </tr>\n",
       "  </tbody>\n",
       "</table>\n",
       "</div>"
      ],
      "text/plain": [
       "   a  b\n",
       "0  1  5\n",
       "1  2  6\n",
       "2  3  7\n",
       "3  4  8"
      ]
     },
     "execution_count": 29,
     "metadata": {},
     "output_type": "execute_result"
    }
   ],
   "source": [
    "df = pd.DataFrame({\"a\":[1,2,3,4],\"b\":[5,6,7,8]})\n",
    "df"
   ]
  },
  {
   "cell_type": "code",
   "execution_count": 30,
   "id": "9680f018",
   "metadata": {},
   "outputs": [
    {
     "data": {
      "text/plain": [
       "0    1\n",
       "1    2\n",
       "2    3\n",
       "3    4\n",
       "Name: a, dtype: int64"
      ]
     },
     "execution_count": 30,
     "metadata": {},
     "output_type": "execute_result"
    }
   ],
   "source": [
    "ser5 = pd.Series(df['a'])\n",
    "ser5"
   ]
  }
 ],
 "metadata": {
  "kernelspec": {
   "display_name": "Python 3 (ipykernel)",
   "language": "python",
   "name": "python3"
  },
  "language_info": {
   "codemirror_mode": {
    "name": "ipython",
    "version": 3
   },
   "file_extension": ".py",
   "mimetype": "text/x-python",
   "name": "python",
   "nbconvert_exporter": "python",
   "pygments_lexer": "ipython3",
   "version": "3.11.4"
  }
 },
 "nbformat": 4,
 "nbformat_minor": 5
}
