{
 "cells": [
  {
   "cell_type": "markdown",
   "id": "3ca20a3b",
   "metadata": {},
   "source": [
    "### [참고] <a href=\"https://pandas.pydata.org/Pandas_Cheat_Sheet.pdf\">Pandas Cheat Sheet</a>\n",
    "\n",
    "#### https://pandas.pydata.org/docs/user_guide/text.html"
   ]
  },
  {
   "cell_type": "markdown",
   "id": "860888c6",
   "metadata": {},
   "source": [
    "**str 메소드**\n",
    "- pandas.core.strings.StringMethods 의 별칭\n",
    "- 호출할 수 없기 때문에 괄호를 사용하지 않음"
   ]
  },
  {
   "cell_type": "code",
   "execution_count": 1,
   "id": "161fc435",
   "metadata": {},
   "outputs": [],
   "source": [
    "import pandas as pd\n",
    "import numpy as np\n",
    "import seaborn as sns"
   ]
  },
  {
   "cell_type": "code",
   "execution_count": 2,
   "id": "99fd1b63",
   "metadata": {},
   "outputs": [
    {
     "data": {
      "text/plain": [
       "0      suho\n",
       "1        AA\n",
       "2       NaN\n",
       "3    rabbit\n",
       "dtype: object"
      ]
     },
     "execution_count": 2,
     "metadata": {},
     "output_type": "execute_result"
    }
   ],
   "source": [
    "s = pd.Series(\n",
    "    [\"suho\",\"AA\",np.nan,\"rabbit\"]\n",
    ")\n",
    "s"
   ]
  },
  {
   "cell_type": "markdown",
   "id": "95ff1a4b",
   "metadata": {},
   "source": [
    "#### str : 메소드이긴 하나 호출할 수 없기 때문에 괄호를 사용하지 않음"
   ]
  },
  {
   "cell_type": "markdown",
   "id": "cefdaed3",
   "metadata": {},
   "source": [
    "#### 1) lower() / upper() / len()"
   ]
  },
  {
   "cell_type": "code",
   "execution_count": 3,
   "id": "f57b4828",
   "metadata": {},
   "outputs": [
    {
     "data": {
      "text/plain": [
       "0      suho\n",
       "1        aa\n",
       "2       NaN\n",
       "3    rabbit\n",
       "dtype: object"
      ]
     },
     "execution_count": 3,
     "metadata": {},
     "output_type": "execute_result"
    }
   ],
   "source": [
    "s.str.lower()"
   ]
  },
  {
   "cell_type": "code",
   "execution_count": 5,
   "id": "067d1e56",
   "metadata": {},
   "outputs": [
    {
     "data": {
      "text/plain": [
       "0      SUHO\n",
       "1        AA\n",
       "2       NaN\n",
       "3    RABBIT\n",
       "dtype: object"
      ]
     },
     "execution_count": 5,
     "metadata": {},
     "output_type": "execute_result"
    }
   ],
   "source": [
    "s.str.upper()"
   ]
  },
  {
   "cell_type": "code",
   "execution_count": 6,
   "id": "7e15923f",
   "metadata": {},
   "outputs": [
    {
     "data": {
      "text/plain": [
       "0    4.0\n",
       "1    2.0\n",
       "2    NaN\n",
       "3    6.0\n",
       "dtype: float64"
      ]
     },
     "execution_count": 6,
     "metadata": {},
     "output_type": "execute_result"
    }
   ],
   "source": [
    "s.str.len()"
   ]
  },
  {
   "cell_type": "markdown",
   "id": "62d969d8",
   "metadata": {},
   "source": [
    "#### 2) strip()"
   ]
  },
  {
   "cell_type": "code",
   "execution_count": 7,
   "id": "947d5009",
   "metadata": {},
   "outputs": [
    {
     "data": {
      "text/plain": [
       "0      suho    \n",
       "1            AA\n",
       "2           NaN\n",
       "3        rabbit\n",
       "dtype: object"
      ]
     },
     "execution_count": 7,
     "metadata": {},
     "output_type": "execute_result"
    }
   ],
   "source": [
    "s = pd.Series(\n",
    "    [\"suho    \",\"AA\",np.nan,\"    rabbit\"]\n",
    ")\n",
    "s"
   ]
  },
  {
   "cell_type": "code",
   "execution_count": 8,
   "id": "d3477ef3",
   "metadata": {},
   "outputs": [
    {
     "data": {
      "text/plain": [
       "0      suho\n",
       "1        AA\n",
       "2       NaN\n",
       "3    rabbit\n",
       "dtype: object"
      ]
     },
     "execution_count": 8,
     "metadata": {},
     "output_type": "execute_result"
    }
   ],
   "source": [
    "s.str.strip()"
   ]
  },
  {
   "cell_type": "code",
   "execution_count": 11,
   "id": "13c22054",
   "metadata": {},
   "outputs": [
    {
     "data": {
      "text/html": [
       "<div>\n",
       "<style scoped>\n",
       "    .dataframe tbody tr th:only-of-type {\n",
       "        vertical-align: middle;\n",
       "    }\n",
       "\n",
       "    .dataframe tbody tr th {\n",
       "        vertical-align: top;\n",
       "    }\n",
       "\n",
       "    .dataframe thead th {\n",
       "        text-align: right;\n",
       "    }\n",
       "</style>\n",
       "<table border=\"1\" class=\"dataframe\">\n",
       "  <thead>\n",
       "    <tr style=\"text-align: right;\">\n",
       "      <th></th>\n",
       "      <th>Column A</th>\n",
       "      <th>Column B</th>\n",
       "    </tr>\n",
       "  </thead>\n",
       "  <tbody>\n",
       "    <tr>\n",
       "      <th>0</th>\n",
       "      <td>-0.945493</td>\n",
       "      <td>0.508453</td>\n",
       "    </tr>\n",
       "    <tr>\n",
       "      <th>1</th>\n",
       "      <td>-0.026762</td>\n",
       "      <td>-0.779340</td>\n",
       "    </tr>\n",
       "  </tbody>\n",
       "</table>\n",
       "</div>"
      ],
      "text/plain": [
       "   Column A    Column B\n",
       "0  -0.945493   0.508453\n",
       "1  -0.026762  -0.779340"
      ]
     },
     "execution_count": 11,
     "metadata": {},
     "output_type": "execute_result"
    }
   ],
   "source": [
    "df = pd.DataFrame(np.random.randn(2,2), columns=[\"Column A \", \" Column B\"])\n",
    "df"
   ]
  },
  {
   "cell_type": "code",
   "execution_count": 12,
   "id": "afd565fa",
   "metadata": {},
   "outputs": [
    {
     "data": {
      "text/plain": [
       "Index(['Column A ', ' Column B'], dtype='object')"
      ]
     },
     "execution_count": 12,
     "metadata": {},
     "output_type": "execute_result"
    }
   ],
   "source": [
    "df.columns"
   ]
  },
  {
   "cell_type": "code",
   "execution_count": 13,
   "id": "06ddf7b0",
   "metadata": {},
   "outputs": [
    {
     "data": {
      "text/plain": [
       "Index(['Column A', 'Column B'], dtype='object')"
      ]
     },
     "execution_count": 13,
     "metadata": {},
     "output_type": "execute_result"
    }
   ],
   "source": [
    "df.columns.str.strip()"
   ]
  },
  {
   "cell_type": "code",
   "execution_count": 14,
   "id": "f3eb6e25",
   "metadata": {},
   "outputs": [
    {
     "data": {
      "text/plain": [
       "Index(['column a ', ' column b'], dtype='object')"
      ]
     },
     "execution_count": 14,
     "metadata": {},
     "output_type": "execute_result"
    }
   ],
   "source": [
    "df.columns.str.lower()"
   ]
  },
  {
   "cell_type": "code",
   "execution_count": 15,
   "id": "fe8b54cb",
   "metadata": {},
   "outputs": [
    {
     "data": {
      "text/plain": [
       "Index(['column_a', 'column_b'], dtype='object')"
      ]
     },
     "execution_count": 15,
     "metadata": {},
     "output_type": "execute_result"
    }
   ],
   "source": [
    "# 공백제거, 전체 소문자, column_a\n",
    "df.columns.str.strip().str.lower().str.replace(\" \",\"_\")"
   ]
  },
  {
   "cell_type": "markdown",
   "id": "2cb7eb51",
   "metadata": {},
   "source": [
    "#### 3) split()"
   ]
  },
  {
   "cell_type": "code",
   "execution_count": 16,
   "id": "7345597a",
   "metadata": {},
   "outputs": [
    {
     "data": {
      "text/plain": [
       "0    ha_a_b\n",
       "1    hi_c_d\n",
       "2       NaN\n",
       "3    ho_e_f\n",
       "dtype: object"
      ]
     },
     "execution_count": 16,
     "metadata": {},
     "output_type": "execute_result"
    }
   ],
   "source": [
    "ser1 = pd.Series([\"ha_a_b\",\"hi_c_d\", np.nan, \"ho_e_f\"])\n",
    "ser1"
   ]
  },
  {
   "cell_type": "code",
   "execution_count": 17,
   "id": "a8e2bd68",
   "metadata": {},
   "outputs": [
    {
     "data": {
      "text/plain": [
       "0    [ha, a, b]\n",
       "1    [hi, c, d]\n",
       "2           NaN\n",
       "3    [ho, e, f]\n",
       "dtype: object"
      ]
     },
     "execution_count": 17,
     "metadata": {},
     "output_type": "execute_result"
    }
   ],
   "source": [
    "ser1.str.split(\"_\")"
   ]
  },
  {
   "cell_type": "code",
   "execution_count": 18,
   "id": "88e69e4d",
   "metadata": {},
   "outputs": [],
   "source": [
    "str_list = ser1.str.split(\"_\")"
   ]
  },
  {
   "cell_type": "code",
   "execution_count": 20,
   "id": "94c6a3ec",
   "metadata": {},
   "outputs": [
    {
     "data": {
      "text/plain": [
       "['ha', 'a', 'b']"
      ]
     },
     "execution_count": 20,
     "metadata": {},
     "output_type": "execute_result"
    }
   ],
   "source": [
    "str_list[0]"
   ]
  },
  {
   "cell_type": "markdown",
   "id": "bdc563d1",
   "metadata": {},
   "source": [
    "* **expand=True** 결과를 데이터 프레임으로 돌려줌"
   ]
  },
  {
   "cell_type": "code",
   "execution_count": 21,
   "id": "604a6dbf",
   "metadata": {
    "scrolled": true
   },
   "outputs": [
    {
     "data": {
      "text/html": [
       "<div>\n",
       "<style scoped>\n",
       "    .dataframe tbody tr th:only-of-type {\n",
       "        vertical-align: middle;\n",
       "    }\n",
       "\n",
       "    .dataframe tbody tr th {\n",
       "        vertical-align: top;\n",
       "    }\n",
       "\n",
       "    .dataframe thead th {\n",
       "        text-align: right;\n",
       "    }\n",
       "</style>\n",
       "<table border=\"1\" class=\"dataframe\">\n",
       "  <thead>\n",
       "    <tr style=\"text-align: right;\">\n",
       "      <th></th>\n",
       "      <th>0</th>\n",
       "      <th>1</th>\n",
       "      <th>2</th>\n",
       "    </tr>\n",
       "  </thead>\n",
       "  <tbody>\n",
       "    <tr>\n",
       "      <th>0</th>\n",
       "      <td>ha</td>\n",
       "      <td>a</td>\n",
       "      <td>b</td>\n",
       "    </tr>\n",
       "    <tr>\n",
       "      <th>1</th>\n",
       "      <td>hi</td>\n",
       "      <td>c</td>\n",
       "      <td>d</td>\n",
       "    </tr>\n",
       "    <tr>\n",
       "      <th>2</th>\n",
       "      <td>NaN</td>\n",
       "      <td>NaN</td>\n",
       "      <td>NaN</td>\n",
       "    </tr>\n",
       "    <tr>\n",
       "      <th>3</th>\n",
       "      <td>ho</td>\n",
       "      <td>e</td>\n",
       "      <td>f</td>\n",
       "    </tr>\n",
       "  </tbody>\n",
       "</table>\n",
       "</div>"
      ],
      "text/plain": [
       "     0    1    2\n",
       "0   ha    a    b\n",
       "1   hi    c    d\n",
       "2  NaN  NaN  NaN\n",
       "3   ho    e    f"
      ]
     },
     "execution_count": 21,
     "metadata": {},
     "output_type": "execute_result"
    }
   ],
   "source": [
    "ser1.str.split(\"_\",expand=True)"
   ]
  },
  {
   "cell_type": "markdown",
   "id": "cdc0af3b",
   "metadata": {},
   "source": [
    "#### 4) replace()"
   ]
  },
  {
   "cell_type": "code",
   "execution_count": 22,
   "id": "367e4379",
   "metadata": {},
   "outputs": [
    {
     "data": {
      "text/plain": [
       "0    ha_a_b\n",
       "1    hi_c_d\n",
       "2       NaN\n",
       "3    ho_e_f\n",
       "dtype: object"
      ]
     },
     "execution_count": 22,
     "metadata": {},
     "output_type": "execute_result"
    }
   ],
   "source": [
    "str1 = pd.Series([\"Suho\",\"bAAa\",np.nan,\"cute_dog\"])\n",
    "ser1"
   ]
  },
  {
   "cell_type": "code",
   "execution_count": 24,
   "id": "f387433f",
   "metadata": {},
   "outputs": [
    {
     "data": {
      "text/plain": [
       "0    ha_a_b\n",
       "1    hi_c_d\n",
       "2       NaN\n",
       "3    ho_e_f\n",
       "dtype: object"
      ]
     },
     "execution_count": 24,
     "metadata": {},
     "output_type": "execute_result"
    }
   ],
   "source": [
    "ser1.str.replace(\"^.a|dog\",\"***\",case=False,regex=True)"
   ]
  },
  {
   "cell_type": "markdown",
   "id": "25b10e19",
   "metadata": {},
   "source": [
    "- ^는 입력라인의 시작\n",
    "- .a 는 맨 첫 문자를 포함하고 a로 끝나는 부분을 매칭\n",
    "- | or 의 의미\n",
    "- dog에 해당하는 부분 매칭\n",
    "- case=False 대소문자 구분 안함\n",
    "- regex=True 전달된 패턴이 정규식"
   ]
  },
  {
   "cell_type": "markdown",
   "id": "2261148b",
   "metadata": {},
   "source": [
    "#### 5) cat : 텍스트 이어 붙이기 "
   ]
  },
  {
   "cell_type": "code",
   "execution_count": 36,
   "id": "0809d870",
   "metadata": {},
   "outputs": [],
   "source": [
    "s = pd.Series([\"ha\", \"hi\", \"ho\"])"
   ]
  },
  {
   "cell_type": "code",
   "execution_count": 37,
   "id": "cc196bc4",
   "metadata": {},
   "outputs": [
    {
     "data": {
      "text/plain": [
       "'hahiho'"
      ]
     },
     "execution_count": 37,
     "metadata": {},
     "output_type": "execute_result"
    }
   ],
   "source": [
    "s.str.cat()"
   ]
  },
  {
   "cell_type": "code",
   "execution_count": 38,
   "id": "843fd25e",
   "metadata": {},
   "outputs": [
    {
     "data": {
      "text/plain": [
       "'ha,hi,ho'"
      ]
     },
     "execution_count": 38,
     "metadata": {},
     "output_type": "execute_result"
    }
   ],
   "source": [
    "s.str.cat(sep=\",\")"
   ]
  },
  {
   "cell_type": "markdown",
   "id": "ac2f319a",
   "metadata": {},
   "source": [
    "### [실습2] 일기 형식의 데이터 가공"
   ]
  },
  {
   "cell_type": "code",
   "execution_count": 28,
   "id": "e714ec90",
   "metadata": {},
   "outputs": [
    {
     "data": {
      "text/html": [
       "<div>\n",
       "<style scoped>\n",
       "    .dataframe tbody tr th:only-of-type {\n",
       "        vertical-align: middle;\n",
       "    }\n",
       "\n",
       "    .dataframe tbody tr th {\n",
       "        vertical-align: top;\n",
       "    }\n",
       "\n",
       "    .dataframe thead th {\n",
       "        text-align: right;\n",
       "    }\n",
       "</style>\n",
       "<table border=\"1\" class=\"dataframe\">\n",
       "  <thead>\n",
       "    <tr style=\"text-align: right;\">\n",
       "      <th></th>\n",
       "      <th>schedule</th>\n",
       "    </tr>\n",
       "  </thead>\n",
       "  <tbody>\n",
       "    <tr>\n",
       "      <th>0</th>\n",
       "      <td>1st_seq : getting up at 05:45am</td>\n",
       "    </tr>\n",
       "    <tr>\n",
       "      <th>1</th>\n",
       "      <td>2nd_seq : swimming from 06:00 to 07:00am</td>\n",
       "    </tr>\n",
       "    <tr>\n",
       "      <th>2</th>\n",
       "      <td>3nd_seq : my morining food is american style</td>\n",
       "    </tr>\n",
       "    <tr>\n",
       "      <th>3</th>\n",
       "      <td>4nd_seq : Writing some proposal from 02:00pm t...</td>\n",
       "    </tr>\n",
       "    <tr>\n",
       "      <th>4</th>\n",
       "      <td>5nd_seq : Arriving at jongGak at 07:00pm</td>\n",
       "    </tr>\n",
       "    <tr>\n",
       "      <th>5</th>\n",
       "      <td>6nd_seq : Fun with friends enjoy beer till 09:...</td>\n",
       "    </tr>\n",
       "    <tr>\n",
       "      <th>6</th>\n",
       "      <td>7nd_seq : My house at 10:30pm and sleeping by ...</td>\n",
       "    </tr>\n",
       "  </tbody>\n",
       "</table>\n",
       "</div>"
      ],
      "text/plain": [
       "                                            schedule\n",
       "0                    1st_seq : getting up at 05:45am\n",
       "1           2nd_seq : swimming from 06:00 to 07:00am\n",
       "2       3nd_seq : my morining food is american style\n",
       "3  4nd_seq : Writing some proposal from 02:00pm t...\n",
       "4           5nd_seq : Arriving at jongGak at 07:00pm\n",
       "5  6nd_seq : Fun with friends enjoy beer till 09:...\n",
       "6  7nd_seq : My house at 10:30pm and sleeping by ..."
      ]
     },
     "execution_count": 28,
     "metadata": {},
     "output_type": "execute_result"
    }
   ],
   "source": [
    "day_plan = [\n",
    "    \"1st_seq : getting up at 05:45am\",\n",
    "    \"2nd_seq : swimming from 06:00 to 07:00am\",\n",
    "    \"3nd_seq : my morining food is american style\",\n",
    "    \"4nd_seq : Writing some proposal from 02:00pm to 06:00pm\",\n",
    "    \"5nd_seq : Arriving at jongGak at 07:00pm\",\n",
    "    \"6nd_seq : Fun with friends enjoy beer till 09:30pm\",\n",
    "    '7nd_seq : My house at 10:30pm and sleeping by 12:00pm'\n",
    "]\n",
    "df = pd.DataFrame(day_plan, columns=[\"schedule\"])\n",
    "df"
   ]
  },
  {
   "cell_type": "code",
   "execution_count": 30,
   "id": "f26b381e",
   "metadata": {},
   "outputs": [
    {
     "data": {
      "text/plain": [
       "schedule    object\n",
       "dtype: object"
      ]
     },
     "execution_count": 30,
     "metadata": {},
     "output_type": "execute_result"
    }
   ],
   "source": [
    "df.dtypes"
   ]
  },
  {
   "cell_type": "code",
   "execution_count": 31,
   "id": "c288d7e0",
   "metadata": {},
   "outputs": [
    {
     "data": {
      "text/plain": [
       "0               [1st_seq, :, getting, up, at, 05:45am]\n",
       "1     [2nd_seq, :, swimming, from, 06:00, to, 07:00am]\n",
       "2    [3nd_seq, :, my, morining, food, is, american,...\n",
       "3    [4nd_seq, :, Writing, some, proposal, from, 02...\n",
       "4     [5nd_seq, :, Arriving, at, jongGak, at, 07:00pm]\n",
       "5    [6nd_seq, :, Fun, with, friends, enjoy, beer, ...\n",
       "6    [7nd_seq, :, My, house, at, 10:30pm, and, slee...\n",
       "Name: schedule, dtype: object"
      ]
     },
     "execution_count": 31,
     "metadata": {},
     "output_type": "execute_result"
    }
   ],
   "source": [
    "# split()\n",
    "\n",
    "df[\"schedule\"].str.split()"
   ]
  },
  {
   "cell_type": "code",
   "execution_count": 32,
   "id": "55c82a72",
   "metadata": {},
   "outputs": [
    {
     "data": {
      "text/plain": [
       "0     6\n",
       "1     7\n",
       "2     8\n",
       "3     9\n",
       "4     7\n",
       "5     9\n",
       "6    10\n",
       "Name: schedule, dtype: int64"
      ]
     },
     "execution_count": 32,
     "metadata": {},
     "output_type": "execute_result"
    }
   ],
   "source": [
    "# split 이후 문자열 개수\n",
    "\n",
    "df[\"schedule\"].str.split().str.len()"
   ]
  },
  {
   "cell_type": "code",
   "execution_count": 33,
   "id": "36165c3c",
   "metadata": {},
   "outputs": [
    {
     "data": {
      "text/plain": [
       "0    False\n",
       "1    False\n",
       "2    False\n",
       "3    False\n",
       "4    False\n",
       "5    False\n",
       "6     True\n",
       "Name: schedule, dtype: bool"
      ]
     },
     "execution_count": 33,
     "metadata": {},
     "output_type": "execute_result"
    }
   ],
   "source": [
    "# 특정 문자열 포함 여부\n",
    "df[\"schedule\"].str.contains(\"My\")"
   ]
  },
  {
   "cell_type": "code",
   "execution_count": 34,
   "id": "51436645",
   "metadata": {},
   "outputs": [
    {
     "data": {
      "text/plain": [
       "0    5\n",
       "1    9\n",
       "2    1\n",
       "3    9\n",
       "4    5\n",
       "5    5\n",
       "6    9\n",
       "Name: schedule, dtype: int64"
      ]
     },
     "execution_count": 34,
     "metadata": {},
     "output_type": "execute_result"
    }
   ],
   "source": [
    "# count()\n",
    "df[\"schedule\"].str.count(\"\\d\")"
   ]
  },
  {
   "cell_type": "code",
   "execution_count": 35,
   "id": "2a01f680",
   "metadata": {},
   "outputs": [
    {
     "data": {
      "text/plain": [
       "0                [1, 0, 5, 4, 5]\n",
       "1    [2, 0, 6, 0, 0, 0, 7, 0, 0]\n",
       "2                            [3]\n",
       "3    [4, 0, 2, 0, 0, 0, 6, 0, 0]\n",
       "4                [5, 0, 7, 0, 0]\n",
       "5                [6, 0, 9, 3, 0]\n",
       "6    [7, 1, 0, 3, 0, 1, 2, 0, 0]\n",
       "Name: schedule, dtype: object"
      ]
     },
     "execution_count": 35,
     "metadata": {},
     "output_type": "execute_result"
    }
   ],
   "source": [
    "df[\"schedule\"].str.findall(\"\\d\")"
   ]
  }
 ],
 "metadata": {
  "kernelspec": {
   "display_name": "Python 3 (ipykernel)",
   "language": "python",
   "name": "python3"
  },
  "language_info": {
   "codemirror_mode": {
    "name": "ipython",
    "version": 3
   },
   "file_extension": ".py",
   "mimetype": "text/x-python",
   "name": "python",
   "nbconvert_exporter": "python",
   "pygments_lexer": "ipython3",
   "version": "3.11.4"
  }
 },
 "nbformat": 4,
 "nbformat_minor": 5
}
