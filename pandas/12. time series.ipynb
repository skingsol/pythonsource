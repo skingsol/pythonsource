{
 "cells": [
  {
   "cell_type": "markdown",
   "id": "70a1e7f8",
   "metadata": {},
   "source": [
    "## Ⅰ. 시계열\n",
    "\n",
    "- 시간상 여러 지점을 관측하거나 측정할 수 있도록 목록 또는 그래프로 표시한 일련의 데이터 점\n",
    "- 일정한 간격의 연속적이고 동등한 점들로 이루어진 시퀀스\n",
    "- 빅데이터에서 일반적으로 동등한 시간 간격으로 배치된 연속적 사건으로 나타남\n",
    "- ex) 금융시장의 주가 예측, 일기 예보, 전력 에너지 소비 추세, 웹 사이트 방문자 수 트렌트 등"
   ]
  },
  {
   "cell_type": "markdown",
   "id": "ab234286",
   "metadata": {},
   "source": [
    "## Ⅱ. 파이썬 날짜 및 시간 관련 객체\n",
    "\n",
    "\n",
    "| 클래스              | 내용                                                               |\n",
    "|---------------------|--------------------------------------------------------------------|\n",
    "| class datetime.date | 그레고리력으로 날짜를 다룸. year,month,day 속성이 있음 |\n",
    "| class datetime.time | 특정일과 관련 없이 모든 날(day)을 24*60*60 초로 다룸. hour,minute,second,microsecond,tzinfo 속성이 있음|\n",
    "| class datetime.datetime | 날짜와 시간의 조합. year,month,day,hour,minute,second,microsecond,tzinfo 속성이 있음|\n",
    "| class datetime.timedelta | date 인스턴스 간, time 인스턴스 간 또는 datetime 인스턴스들 간 차이를 마이크로초로 나타내는 기간|\n"
   ]
  },
  {
   "cell_type": "markdown",
   "id": "2977a3ee",
   "metadata": {},
   "source": [
    "## Ⅲ. pandas 로 날짜 다루기\n",
    "### 1. 시계열 자료와 pandas\n",
    "- 년도별, 월별, 일별, 시별, 분별 초별등 시간의 흐름에 따라 관측된 자료\n",
    "- pandas 에서 시계열 자료를 손쉽게 다룰 수 있도록, datetime (datetime64) 자료형 제공\n",
    "  - pandas.to_datetime() 함수를 사용해서, 날짜와 시간을 나타내는 문자열을 datetime (datetime64) 자료형으로 변경 가능\n",
    "  \n",
    "### 2. pandas.to_datetime() 사용법\n",
    "- 문자열 타입의 시간을 pandas 의 datetime (datetime64) 형으로 변경 \n",
    "- 주요 사용법\n",
    "  - Series 변수 = to_datetime(Series 변수)\n",
    "    - return 된 Series 변수 데이터는 datetime64 형으로 변형되어 저장\n",
    "  - Series 변수 = to_datetime(Series 변수, format='~~~')\n",
    "    - Series 에 변환될 문자열이 특별한 포맷을 가져서, 자동변환이 어려운 경우 명시적으로 format 지정 (옵션)\n",
    "  - Series 변수 = to_datetime(Series 변수, errors='raise')\n",
    "    - 디폴트 raise\n",
    "    - errors 가능한 값: ignore(무시), raise(에러 발생), coerce(NaT 로 값 변경해서 저장) (옵션)\n",
    "\n",
    "\n",
    "| 표시 | 의미                                |\n",
    "|------|:-------------------------------------|\n",
    "| %y   | 연도를 축약해서 표시, 예: 21        |\n",
    "| %Y   | 연도를 축약하지 않고 표시, 예: 2021 |\n",
    "| %m   | 월을 두자릿 수로 표시, 예: 01 ~ 12  |\n",
    "| %d   | 일을 두자릿 수로 표시, 예: 01 ~ 31  |\n",
    "| %H   | 시간 표시(24시간), 예: 00 ~ 23        |\n",
    "| %M   | 분 표시, 예: 00 ~ 59  |\n",
    "| %S   | 초 표시, 예: 00 ~ 59        |\n",
    "\n",
    "> 참고: https://docs.python.org/3/library/datetime.html#strftime-and-strptime-behavior"
   ]
  },
  {
   "cell_type": "code",
   "execution_count": 1,
   "id": "fdd15e47",
   "metadata": {},
   "outputs": [],
   "source": [
    "import pandas as pd"
   ]
  },
  {
   "cell_type": "markdown",
   "id": "5cacfdfb",
   "metadata": {},
   "source": [
    "### [실습1]"
   ]
  },
  {
   "cell_type": "markdown",
   "id": "e5c9efb0",
   "metadata": {},
   "source": [
    "#### 1) 날짜를 인덱스로 갖는 시리즈 객체 생성"
   ]
  },
  {
   "cell_type": "code",
   "execution_count": 2,
   "id": "b4802c4b",
   "metadata": {},
   "outputs": [
    {
     "data": {
      "text/plain": [
       "2023-01-01    0\n",
       "2023-01-02    1\n",
       "2023-01-03    2\n",
       "Freq: D, dtype: int64"
      ]
     },
     "execution_count": 2,
     "metadata": {},
     "output_type": "execute_result"
    }
   ],
   "source": [
    "pd.Series(range(3), index=pd.date_range(\"2023\", freq=\"D\", periods=3))"
   ]
  },
  {
   "cell_type": "markdown",
   "id": "46ab976b",
   "metadata": {},
   "source": [
    "#### 2) 날짜를 value로 갖는 시리즈 객체 생성"
   ]
  },
  {
   "cell_type": "code",
   "execution_count": 7,
   "id": "5900e92a",
   "metadata": {},
   "outputs": [
    {
     "data": {
      "text/plain": [
       "0   2023-01-01\n",
       "1   2023-01-02\n",
       "2   2023-01-03\n",
       "dtype: datetime64[ns]"
      ]
     },
     "execution_count": 7,
     "metadata": {},
     "output_type": "execute_result"
    }
   ],
   "source": [
    "s = pd.Series(pd.date_range(\"2023\", periods=3))\n",
    "s"
   ]
  },
  {
   "cell_type": "code",
   "execution_count": 6,
   "id": "d0c57105",
   "metadata": {},
   "outputs": [
    {
     "data": {
      "text/plain": [
       "0   2023-07-01\n",
       "1   2023-07-02\n",
       "2   2023-07-03\n",
       "dtype: datetime64[ns]"
      ]
     },
     "execution_count": 6,
     "metadata": {},
     "output_type": "execute_result"
    }
   ],
   "source": [
    "s = pd.Series(pd.date_range(\"20230701\", periods=3))\n",
    "s"
   ]
  },
  {
   "cell_type": "markdown",
   "id": "c6109dbf",
   "metadata": {},
   "source": [
    "#### 3) 날짜+시간을 value로 갖는 시리즈 객체 생성"
   ]
  },
  {
   "cell_type": "code",
   "execution_count": 8,
   "id": "202bc379",
   "metadata": {},
   "outputs": [
    {
     "data": {
      "text/plain": [
       "0   2023-07-01 09:10:12\n",
       "1   2023-07-01 10:10:12\n",
       "2   2023-07-01 11:10:12\n",
       "dtype: datetime64[ns]"
      ]
     },
     "execution_count": 8,
     "metadata": {},
     "output_type": "execute_result"
    }
   ],
   "source": [
    "s = pd.Series(pd.date_range(\"20230701 09:10:12\", periods=3, freq=\"H\"))\n",
    "s"
   ]
  },
  {
   "cell_type": "markdown",
   "id": "6f390715",
   "metadata": {},
   "source": [
    "#### 4) 시간대 정보 접근 : .dt"
   ]
  },
  {
   "cell_type": "code",
   "execution_count": 9,
   "id": "287c8a59",
   "metadata": {},
   "outputs": [
    {
     "data": {
      "text/plain": [
       "0     9\n",
       "1    10\n",
       "2    11\n",
       "dtype: int32"
      ]
     },
     "execution_count": 9,
     "metadata": {},
     "output_type": "execute_result"
    }
   ],
   "source": [
    "s.dt.hour"
   ]
  },
  {
   "cell_type": "code",
   "execution_count": 10,
   "id": "f54144d3",
   "metadata": {},
   "outputs": [
    {
     "data": {
      "text/plain": [
       "0    10\n",
       "1    10\n",
       "2    10\n",
       "dtype: int32"
      ]
     },
     "execution_count": 10,
     "metadata": {},
     "output_type": "execute_result"
    }
   ],
   "source": [
    "s.dt.minute"
   ]
  },
  {
   "cell_type": "code",
   "execution_count": 11,
   "id": "9409ca6b",
   "metadata": {},
   "outputs": [
    {
     "data": {
      "text/plain": [
       "0    12\n",
       "1    12\n",
       "2    12\n",
       "dtype: int32"
      ]
     },
     "execution_count": 11,
     "metadata": {},
     "output_type": "execute_result"
    }
   ],
   "source": [
    "s.dt.second"
   ]
  },
  {
   "cell_type": "markdown",
   "id": "c8bfd4d5",
   "metadata": {},
   "source": [
    "- day가 2인 열 추출"
   ]
  },
  {
   "cell_type": "code",
   "execution_count": null,
   "id": "330ab96b",
   "metadata": {},
   "outputs": [],
   "source": [
    "print(s[s.dt.day == 2])\n",
    "print(s.dt.year)"
   ]
  },
  {
   "cell_type": "markdown",
   "id": "fb83387e",
   "metadata": {},
   "source": [
    "### [실습2]"
   ]
  },
  {
   "cell_type": "code",
   "execution_count": 14,
   "id": "af2de2fa",
   "metadata": {},
   "outputs": [
    {
     "name": "stdout",
     "output_type": "stream",
     "text": [
      "<class 'pandas.core.frame.DataFrame'>\n",
      "RangeIndex: 6 entries, 0 to 5\n",
      "Data columns (total 1 columns):\n",
      " #   Column  Non-Null Count  Dtype \n",
      "---  ------  --------------  ----- \n",
      " 0   order   6 non-null      object\n",
      "dtypes: object(1)\n",
      "memory usage: 180.0+ bytes\n"
     ]
    }
   ],
   "source": [
    "df = pd.DataFrame({\n",
    "    \"order\":[\n",
    "        \"2023-07-01 07:10:01\",\n",
    "        \"2023-07-02 08:10:01\",\n",
    "        \"2023-08-01 06:10:01\",\n",
    "        \"2023-08-02 09:10:01\",\n",
    "        \"2023-09-03 11:10:01\",\n",
    "        \"2023-09-04 12:10:01\",\n",
    "    ]\n",
    "})\n",
    "df.info()"
   ]
  },
  {
   "cell_type": "markdown",
   "id": "6da2c6c9",
   "metadata": {},
   "source": [
    "#### 1) object => datetime64(ns)"
   ]
  },
  {
   "cell_type": "code",
   "execution_count": 17,
   "id": "ccb598dc",
   "metadata": {},
   "outputs": [],
   "source": [
    "df[\"order\"] = pd.to_datetime(df[\"order\"], format=\"%Y-%m-%d %H:%M:%S\")\n"
   ]
  },
  {
   "cell_type": "code",
   "execution_count": 18,
   "id": "ddd3fbe1",
   "metadata": {},
   "outputs": [
    {
     "name": "stdout",
     "output_type": "stream",
     "text": [
      "<class 'pandas.core.frame.DataFrame'>\n",
      "RangeIndex: 6 entries, 0 to 5\n",
      "Data columns (total 1 columns):\n",
      " #   Column  Non-Null Count  Dtype         \n",
      "---  ------  --------------  -----         \n",
      " 0   order   6 non-null      datetime64[ns]\n",
      "dtypes: datetime64[ns](1)\n",
      "memory usage: 180.0 bytes\n"
     ]
    }
   ],
   "source": [
    "df.info()"
   ]
  },
  {
   "cell_type": "code",
   "execution_count": 22,
   "id": "dbeb0eef",
   "metadata": {},
   "outputs": [
    {
     "data": {
      "text/plain": [
       "<bound method DataFrame.info of                 order  hour\n",
       "0 2023-07-01 07:10:01     7\n",
       "1 2023-07-02 08:10:01     8\n",
       "2 2023-08-01 06:10:01     6\n",
       "3 2023-08-02 09:10:01     9\n",
       "4 2023-09-03 11:10:01    11\n",
       "5 2023-09-04 12:10:01    12>"
      ]
     },
     "execution_count": 22,
     "metadata": {},
     "output_type": "execute_result"
    }
   ],
   "source": [
    "df[\"hour\"] = df[\"order\"].dt.hour\n",
    "df.info"
   ]
  }
 ],
 "metadata": {
  "kernelspec": {
   "display_name": "Python 3 (ipykernel)",
   "language": "python",
   "name": "python3"
  },
  "language_info": {
   "codemirror_mode": {
    "name": "ipython",
    "version": 3
   },
   "file_extension": ".py",
   "mimetype": "text/x-python",
   "name": "python",
   "nbconvert_exporter": "python",
   "pygments_lexer": "ipython3",
   "version": "3.11.4"
  }
 },
 "nbformat": 4,
 "nbformat_minor": 5
}
