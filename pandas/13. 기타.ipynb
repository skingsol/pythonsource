{
 "cells": [
  {
   "cell_type": "markdown",
   "id": "ecab4e48",
   "metadata": {},
   "source": [
    "### 데이터 프레임 다른 포맷 형식으로 저장"
   ]
  },
  {
   "cell_type": "markdown",
   "id": "d06f2e0c",
   "metadata": {},
   "source": [
    "<img src=\"https://pandas.pydata.org/docs/_images/02_io_readwrite.svg\">"
   ]
  },
  {
   "cell_type": "code",
   "execution_count": 1,
   "id": "a85433e3",
   "metadata": {},
   "outputs": [],
   "source": [
    "import pandas as pd"
   ]
  },
  {
   "cell_type": "code",
   "execution_count": 2,
   "id": "5fdb1316",
   "metadata": {},
   "outputs": [
    {
     "data": {
      "text/html": [
       "<div>\n",
       "<style scoped>\n",
       "    .dataframe tbody tr th:only-of-type {\n",
       "        vertical-align: middle;\n",
       "    }\n",
       "\n",
       "    .dataframe tbody tr th {\n",
       "        vertical-align: top;\n",
       "    }\n",
       "\n",
       "    .dataframe thead th {\n",
       "        text-align: right;\n",
       "    }\n",
       "</style>\n",
       "<table border=\"1\" class=\"dataframe\">\n",
       "  <thead>\n",
       "    <tr style=\"text-align: right;\">\n",
       "      <th></th>\n",
       "      <th>c0</th>\n",
       "      <th>c1</th>\n",
       "    </tr>\n",
       "  </thead>\n",
       "  <tbody>\n",
       "    <tr>\n",
       "      <th>0</th>\n",
       "      <td>1</td>\n",
       "      <td>4</td>\n",
       "    </tr>\n",
       "    <tr>\n",
       "      <th>1</th>\n",
       "      <td>2</td>\n",
       "      <td>5</td>\n",
       "    </tr>\n",
       "    <tr>\n",
       "      <th>2</th>\n",
       "      <td>3</td>\n",
       "      <td>6</td>\n",
       "    </tr>\n",
       "  </tbody>\n",
       "</table>\n",
       "</div>"
      ],
      "text/plain": [
       "   c0  c1\n",
       "0   1   4\n",
       "1   2   5\n",
       "2   3   6"
      ]
     },
     "execution_count": 2,
     "metadata": {},
     "output_type": "execute_result"
    }
   ],
   "source": [
    "dict_data = {\n",
    "    \"c0\":[1,2,3],\n",
    "    \"c1\":[4,5,6]\n",
    "}\n",
    "df = pd.DataFrame(dict_data)\n",
    "df"
   ]
  },
  {
   "cell_type": "code",
   "execution_count": 3,
   "id": "cd0756df",
   "metadata": {},
   "outputs": [],
   "source": [
    "df.to_csv(\"./df1.csv\",index=False)"
   ]
  },
  {
   "cell_type": "code",
   "execution_count": 15,
   "id": "1659b398",
   "metadata": {},
   "outputs": [],
   "source": [
    "from selenium import webdriver\n",
    "from selenium.webdriver.chrome.service import Service\n",
    "from webdriver_manager.chrome import ChromeDriverManager\n",
    "\n",
    "def set_chrome_driver():\n",
    "    chrome_options = webdriver.ChromeOptions()\n",
    "    # chrome_options.add_argument(\"--start-maximized\")\n",
    "    # chrome_options.add_argument(\"--headless\")  \n",
    "    driver = webdriver.Chrome(\n",
    "        service=Service(ChromeDriverManager().install()), options=chrome_options\n",
    "    )\n",
    "    return driver"
   ]
  },
  {
   "cell_type": "markdown",
   "id": "2130694f",
   "metadata": {},
   "source": [
    "### Youtube 댓글 크롤링 후 데이터 프레임 생성"
   ]
  },
  {
   "cell_type": "code",
   "execution_count": 22,
   "id": "a6301843",
   "metadata": {},
   "outputs": [],
   "source": [
    "from bs4 import BeautifulSoup"
   ]
  },
  {
   "cell_type": "code",
   "execution_count": 25,
   "id": "841884a0",
   "metadata": {},
   "outputs": [],
   "source": [
    "import time\n",
    "\n",
    "driver = set_chrome_driver()\n",
    "driver.get(\"https://www.youtube.com/watch?v=HosW0gulISQ\")\n",
    "\n",
    "time.sleep(3)\n",
    "\n",
    "# 현재 문서 높이\n",
    "prev_height = driver.execute_script(\"return document.documentElement.scrollHeight\")\n",
    "\n",
    "# 스크롤 이동 시간 간격\n",
    "interval = 2\n",
    "\n",
    "while True:\n",
    "\n",
    "    # 스크롤 이동\n",
    "    driver.execute_script(\"window.scrollTo(0,document.documentElement.scrollHeight)\")\n",
    "\n",
    "    # 페이지 로딩 대기\n",
    "    time.sleep(interval)\n",
    "\n",
    "    # 스크롤이 진행된 후 현재 문서 높이\n",
    "    curr_height = driver.execute_script(\"return document.documentElement.scrollHeight\")\n",
    "\n",
    "    if curr_height == prev_height:\n",
    "        break\n",
    "\n",
    "    prev_height = curr_height\n",
    "\n",
    "time.sleep(2)\n",
    "soup = BeautifulSoup(driver.page_source, \"lxml\")"
   ]
  },
  {
   "cell_type": "code",
   "execution_count": 29,
   "id": "10b8196d",
   "metadata": {},
   "outputs": [
    {
     "name": "stdout",
     "output_type": "stream",
     "text": [
      "1266 1266\n"
     ]
    }
   ],
   "source": [
    "# 파싱 - id, 내용\n",
    "\n",
    "# 작성자 : #author-text > span\n",
    "# 내용 : #content-text\n",
    "\n",
    "author_list = soup.select(\"#author-text > span\")\n",
    "contents = soup.select(\"#content-text\")\n",
    "# author_list = [author.text.strip() for author in soup.select(\"#author-text > span\")]\n",
    "# contents = [content.text.strip() for content in soup.select(\"#content-text\")]\n",
    "\n",
    "print(len(author_list), len(contents))"
   ]
  },
  {
   "cell_type": "code",
   "execution_count": 32,
   "id": "cfdfcb69",
   "metadata": {},
   "outputs": [
    {
     "ename": "AttributeError",
     "evalue": "'str' object has no attribute 'text'",
     "output_type": "error",
     "traceback": [
      "\u001b[1;31m---------------------------------------------------------------------------\u001b[0m",
      "\u001b[1;31mAttributeError\u001b[0m                            Traceback (most recent call last)",
      "Cell \u001b[1;32mIn[32], line 8\u001b[0m\n\u001b[0;32m      4\u001b[0m contents_new \u001b[39m=\u001b[39m []\n\u001b[0;32m      6\u001b[0m \u001b[39mfor\u001b[39;00m i \u001b[39min\u001b[39;00m \u001b[39mrange\u001b[39m(\u001b[39mlen\u001b[39m(author_list)):\n\u001b[0;32m      7\u001b[0m     \u001b[39m# 작성자 가져오기\u001b[39;00m\n\u001b[1;32m----> 8\u001b[0m     author \u001b[39m=\u001b[39m author_list[i]\u001b[39m.\u001b[39;49mtext\n\u001b[0;32m      9\u001b[0m     author \u001b[39m=\u001b[39m author\u001b[39m.\u001b[39mreplace(\u001b[39m\"\u001b[39m\u001b[39m\\n\u001b[39;00m\u001b[39m\"\u001b[39m,\u001b[39m\"\u001b[39m\u001b[39m\"\u001b[39m)\n\u001b[0;32m     10\u001b[0m     author \u001b[39m=\u001b[39m author\u001b[39m.\u001b[39mreplace(\u001b[39m\"\u001b[39m\u001b[39m\\t\u001b[39;00m\u001b[39m\"\u001b[39m,\u001b[39m\"\u001b[39m\u001b[39m\"\u001b[39m)\n",
      "\u001b[1;31mAttributeError\u001b[0m: 'str' object has no attribute 'text'"
     ]
    }
   ],
   "source": [
    "# 태그 제거\n",
    "\n",
    "author_new = []\n",
    "contents_new = []\n",
    "\n",
    "for i in range(len(author_list)):\n",
    "    # 작성자 가져오기\n",
    "    author = author_list[i].text\n",
    "    author = author.replace(\"\\n\",\"\")\n",
    "    author = author.replace(\"\\t\",\"\")\n",
    "    author = author.replace(\"    \",\" \")\n",
    "    author_new.append(author)\n",
    "\n",
    "    # 작성자 가져오기\n",
    "    content = contents[i].text\n",
    "    content = contents.replace(\"\\n\",\"\")\n",
    "    content = contents.replace(\"\\t\",\"\")\n",
    "    content = contents.replace(\"    \",\" \")\n",
    "    contents_new.append(content)"
   ]
  },
  {
   "cell_type": "code",
   "execution_count": null,
   "id": "b3d5f83b",
   "metadata": {},
   "outputs": [],
   "source": [
    "df =pd.DataFrame({\"author\":author_list,\"comment\":contents})\n",
    "df.head()"
   ]
  },
  {
   "cell_type": "code",
   "execution_count": null,
   "id": "5953c6e8",
   "metadata": {},
   "outputs": [],
   "source": [
    "df.to_csv(\"./youtube.csv\", index=False)"
   ]
  },
  {
   "cell_type": "markdown",
   "id": "6a35348d",
   "metadata": {},
   "source": [
    "#### [참고] 전체 스크롤의 크기 확인하기"
   ]
  },
  {
   "cell_type": "code",
   "execution_count": 11,
   "id": "54de3efa",
   "metadata": {},
   "outputs": [
    {
     "name": "stdout",
     "output_type": "stream",
     "text": [
      "body_scrollHeight 0\n",
      "documentElement_scrollHeight 2193\n"
     ]
    }
   ],
   "source": [
    "# body 태그 부터 가져옴\n",
    "height = driver.execute_script(\"return document.body.scrollHeight\")\n",
    "print(\"body_scrollHeight\", height)\n",
    "\n",
    "# html 태그로 가져옴\n",
    "doc_height = driver.execute_script(\"return document.documentElement.scrollHeight\")\n",
    "print(\"documentElement_scrollHeight\", doc_height)"
   ]
  },
  {
   "cell_type": "code",
   "execution_count": null,
   "id": "2524f7cc",
   "metadata": {},
   "outputs": [],
   "source": []
  },
  {
   "cell_type": "code",
   "execution_count": null,
   "id": "501cbf8c",
   "metadata": {},
   "outputs": [],
   "source": []
  },
  {
   "cell_type": "code",
   "execution_count": null,
   "id": "e8e185f8",
   "metadata": {},
   "outputs": [],
   "source": []
  },
  {
   "cell_type": "code",
   "execution_count": null,
   "id": "31631591",
   "metadata": {},
   "outputs": [],
   "source": []
  },
  {
   "cell_type": "code",
   "execution_count": null,
   "id": "225690a1",
   "metadata": {},
   "outputs": [],
   "source": []
  },
  {
   "cell_type": "code",
   "execution_count": null,
   "id": "ee050309",
   "metadata": {},
   "outputs": [],
   "source": []
  },
  {
   "cell_type": "code",
   "execution_count": null,
   "id": "e6ea32ef",
   "metadata": {},
   "outputs": [],
   "source": []
  },
  {
   "cell_type": "code",
   "execution_count": null,
   "id": "0852d4bb",
   "metadata": {},
   "outputs": [],
   "source": []
  }
 ],
 "metadata": {
  "kernelspec": {
   "display_name": "Python 3 (ipykernel)",
   "language": "python",
   "name": "python3"
  },
  "language_info": {
   "codemirror_mode": {
    "name": "ipython",
    "version": 3
   },
   "file_extension": ".py",
   "mimetype": "text/x-python",
   "name": "python",
   "nbconvert_exporter": "python",
   "pygments_lexer": "ipython3",
   "version": "3.11.4"
  }
 },
 "nbformat": 4,
 "nbformat_minor": 5
}
